{
  "cells": [
    {
      "cell_type": "code",
      "execution_count": null,
      "metadata": {
        "id": "gEsp0Wdd_QeW",
        "outputId": "855541fa-81ab-403b-bd6d-6f361870a921"
      },
      "outputs": [
        {
          "data": {
            "text/plain": [
              "True"
            ]
          },
          "execution_count": 1,
          "metadata": {},
          "output_type": "execute_result"
        }
      ],
      "source": [
        "#from dotenv import load_dotenv\n",
        "#load_dotenv()"
      ]
    },
    {
      "cell_type": "markdown",
      "source": [
        "I will install necessary python packages."
      ],
      "metadata": {
        "id": "uBu5PPEOcKUq"
      }
    },
    {
      "cell_type": "code",
      "execution_count": 3,
      "metadata": {
        "colab": {
          "base_uri": "https://localhost:8080/"
        },
        "id": "5_5-KKzG_a1H",
        "outputId": "8f8fd0c4-e9e0-46ef-8de4-b4573ed21223"
      },
      "outputs": [
        {
          "output_type": "stream",
          "name": "stdout",
          "text": [
            "\u001b[2K   \u001b[90m━━━━━━━━━━━━━━━━━━━━━━━━━━━━━━━━━━━━━━━━\u001b[0m \u001b[32m2.3/2.3 MB\u001b[0m \u001b[31m21.5 MB/s\u001b[0m eta \u001b[36m0:00:00\u001b[0m\n",
            "\u001b[2K   \u001b[90m━━━━━━━━━━━━━━━━━━━━━━━━━━━━━━━━━━━━━━━━\u001b[0m \u001b[32m396.2/396.2 kB\u001b[0m \u001b[31m22.2 MB/s\u001b[0m eta \u001b[36m0:00:00\u001b[0m\n",
            "\u001b[?25h"
          ]
        }
      ],
      "source": [
        "! pip install -qU langchain_huggingface \\\n",
        "langchain_community\\\n",
        "langchain_openai\\\n",
        "langchain_groq\\\n",
        "langchainhub\\\n",
        "langgraph"
      ]
    },
    {
      "cell_type": "code",
      "execution_count": null,
      "metadata": {
        "colab": {
          "base_uri": "https://localhost:8080/"
        },
        "id": "Luckv3jqX4cQ",
        "outputId": "a0c79688-23c3-4bc6-c7a3-23059bba9997"
      },
      "outputs": [
        {
          "name": "stdout",
          "output_type": "stream",
          "text": [
            "\u001b[?25l   \u001b[90m━━━━━━━━━━━━━━━━━━━━━━━━━━━━━━━━━━━━━━━━\u001b[0m \u001b[32m0.0/891.5 kB\u001b[0m \u001b[31m?\u001b[0m eta \u001b[36m-:--:--\u001b[0m\r\u001b[2K   \u001b[91m━━━━━━━━━━━━━━━━━━━━━━\u001b[0m\u001b[91m╸\u001b[0m\u001b[90m━━━━━━━━━━━━━━━━━\u001b[0m \u001b[32m501.8/891.5 kB\u001b[0m \u001b[31m14.5 MB/s\u001b[0m eta \u001b[36m0:00:01\u001b[0m\r\u001b[2K   \u001b[90m━━━━━━━━━━━━━━━━━━━━━━━━━━━━━━━━━━━━━━━━\u001b[0m \u001b[32m891.5/891.5 kB\u001b[0m \u001b[31m13.5 MB/s\u001b[0m eta \u001b[36m0:00:00\u001b[0m\n",
            "\u001b[?25h"
          ]
        }
      ],
      "source": [
        "#! pip install -qU langchain_anthropic"
      ]
    },
    {
      "cell_type": "markdown",
      "source": [
        "I will load my environment keys:"
      ],
      "metadata": {
        "id": "R78O5KwjcRX9"
      }
    },
    {
      "cell_type": "code",
      "execution_count": 4,
      "metadata": {
        "id": "2YMhJzW8F3Fp"
      },
      "outputs": [],
      "source": [
        "import os\n",
        "from google.colab import userdata\n",
        "\n",
        "os.environ['OPENAI_API_KEY'] = userdata.get('OPENAI_API_KEY')\n",
        "#os.environ[\"ANTHROPIC_API_KEY\"] = userdata.get('ANTHROPIC_API_KEY')\n",
        "os.environ[\"GROQ_API_KEY\"] = userdata.get('GROQ_API_KEY')"
      ]
    },
    {
      "cell_type": "markdown",
      "source": [
        "Now, I will define the key components of my application. My goal is to create an agent using LangGraph that can adeptly handle various mathematical concepts by leveraging state-of-the-art foundational models tailored to each concept."
      ],
      "metadata": {
        "id": "RGy0UhhmcXkq"
      }
    },
    {
      "cell_type": "code",
      "execution_count": 5,
      "metadata": {
        "id": "jjswAcrN_Qec"
      },
      "outputs": [],
      "source": [
        "### Router\n",
        "\n",
        "from langchain.prompts import PromptTemplate\n",
        "from langchain_groq import ChatGroq\n",
        "from langchain_core.output_parsers import JsonOutputParser\n",
        "\n",
        "\n",
        "prompt = PromptTemplate(\n",
        "    template=\"\"\"\n",
        "You are an expert at routing math problems to the appropriate data source. Based on the provided math problem, please classify it into one of the following categories:\n",
        "\n",
        "## Categories\n",
        "\n",
        "1. **simple_arithmetic**: Problems that involve straightforward calculations using basic mathematical operations such as addition, subtraction, multiplication, and division.\n",
        "   - Example: \"Find the value of the expression \\\\(4.8 \\\\cdot 2.5\\\\).\"\n",
        "   - Example: \"Find the root of the equation: \\\\(\\\\left(\\\\dfrac{{1}}{{8}} \\\\right)^{{4 - x}} =64\\\\).\"\n",
        "\n",
        "2. **word_problems**: Problems presented in a narrative form, requiring the solver to extract and use mathematical concepts to find the solution, often involving real-world scenarios.\n",
        "   - Example: \"The plane's navigation system informs the passenger that the flight is at an altitude of 37,000 feet. Express the flight altitude in meters. Assume that 1 foot is equal to 30.5 cm.\"\n",
        "   - Example: \"At the school, there are two-person camping tents. What is the minimum number of tents needed for a trip involving 25 people?\"\n",
        "\n",
        "3. **others**: Problems that do not fit neatly into the previous two categories, often involving more complex concepts or requiring multiple steps and different types of reasoning.\n",
        "   - Example: \"The volume of a rectangular parallelepiped is calculated using the formula \\\\(V=abc\\\\), where \\\\(a\\\\), \\\\(b\\\\), and \\\\(c\\\\) are the lengths of the three edges meeting at one vertex. Using this formula, find \\\\(a\\\\) if \\\\(V=70\\\\), \\\\(b=5\\\\), and \\\\(c=3.5\\\\).\"\n",
        "   - Example: \"Find a four-digit number that is a multiple of 24, the product of whose digits is 16. In your answer, provide any one such number.\"\n",
        "\n",
        "Please classify the question into one of these categories and respond with a JSON object containing a single key 'DATASOURCE' with the value 'simple_arithmetic', 'word_problems', or 'others'. Only provide the classification without any additional explanation.\n",
        "\n",
        "---\n",
        "\n",
        "**Problem**: {problem}\n",
        "\n",
        "**JSON Response**:\n",
        "\"\"\",\n",
        "    input_variables=[\"problem\"],\n",
        ")\n",
        "# LLM\n",
        "#llm = ChatGroq(temperature=0.1, model_name=\"llama-3.1-70b-versatile\")\n",
        "llm = ChatGroq(temperature=0.1, model_name=\"gemma2-9b-it\")\n",
        "question_router = prompt | llm | JsonOutputParser()"
      ]
    },
    {
      "cell_type": "markdown",
      "metadata": {
        "id": "-F5dzJ7e_Qed"
      },
      "source": [
        "To try it out:"
      ]
    },
    {
      "cell_type": "code",
      "execution_count": null,
      "metadata": {
        "id": "rDgT5xP8HW3P"
      },
      "outputs": [],
      "source": [
        "# Masha's mobile phone account had 78 rubles, and after the conversation with Lena, there were 42 rubles left. It is known that the conversation lasted a whole number of minutes, and one minute of conversation costs 1 ruble 50 kopecks. How many minutes did the conversation with Lena last?\n",
        "# Find a six-digit natural number that consists only of the digits 2 and 0, and is divisible by 24. In your answer, provide any one such number.\n",
        "# Find the value of the expression $\\dfrac{2.4\\cdot 10^2}{8\\cdot 10^{-1}}$."
      ]
    },
    {
      "cell_type": "code",
      "execution_count": 6,
      "metadata": {
        "colab": {
          "base_uri": "https://localhost:8080/"
        },
        "id": "ds_Ak5BV_Qee",
        "outputId": "7e03364a-9dc8-428d-902f-0cfecd2d313e"
      },
      "outputs": [
        {
          "output_type": "stream",
          "name": "stdout",
          "text": [
            "PROBLEM and GRADE: Masha's mobile phone account had 78 rubles, and after the conversation with Lena, there were 42 rubles left. It is known that the conversation lasted\n",
            " a whole number of minutes, and one minute of conversation costs 1 ruble 50 kopecks. How many minutes did the conversation with Lena last? - word_problems\n"
          ]
        }
      ],
      "source": [
        "problem = \"\"\"Masha's mobile phone account had 78 rubles, and after the conversation with Lena, there were 42 rubles left. It is known that the conversation lasted\n",
        " a whole number of minutes, and one minute of conversation costs 1 ruble 50 kopecks. How many minutes did the conversation with Lena last?\"\"\"\n",
        "response = question_router.invoke({\"problem\": problem})\n",
        "\n",
        "# Extract the value of 'DATASOURCE'\n",
        "value = response.get(\"DATASOURCE\", \"No key found\")\n",
        "print(f\"PROBLEM and GRADE: {problem} - {value}\")"
      ]
    },
    {
      "cell_type": "code",
      "execution_count": null,
      "metadata": {
        "colab": {
          "base_uri": "https://localhost:8080/"
        },
        "id": "WrcW_FlvMd0w",
        "outputId": "f74804a2-4710-420a-eb36-b292a27d9a4e"
      },
      "outputs": [
        {
          "name": "stdout",
          "output_type": "stream",
          "text": [
            "\u001b[?25l   \u001b[90m━━━━━━━━━━━━━━━━━━━━━━━━━━━━━━━━━━━━━━━━\u001b[0m \u001b[32m0.0/75.6 kB\u001b[0m \u001b[31m?\u001b[0m eta \u001b[36m-:--:--\u001b[0m\r\u001b[2K   \u001b[91m━━━━━━━━━━━━━━━━━━━━━\u001b[0m\u001b[91m╸\u001b[0m\u001b[90m━━━━━━━━━━━━━━━━━━\u001b[0m \u001b[32m41.0/75.6 kB\u001b[0m \u001b[31m950.3 kB/s\u001b[0m eta \u001b[36m0:00:01\u001b[0m\r\u001b[2K   \u001b[90m━━━━━━━━━━━━━━━━━━━━━━━━━━━━━━━━━━━━━━━━\u001b[0m \u001b[32m75.6/75.6 kB\u001b[0m \u001b[31m1.2 MB/s\u001b[0m eta \u001b[36m0:00:00\u001b[0m\n",
            "\u001b[2K   \u001b[90m━━━━━━━━━━━━━━━━━━━━━━━━━━━━━━━━━━━━━━━━\u001b[0m \u001b[32m77.9/77.9 kB\u001b[0m \u001b[31m3.1 MB/s\u001b[0m eta \u001b[36m0:00:00\u001b[0m\n",
            "\u001b[2K   \u001b[90m━━━━━━━━━━━━━━━━━━━━━━━━━━━━━━━━━━━━━━━━\u001b[0m \u001b[32m58.3/58.3 kB\u001b[0m \u001b[31m3.0 MB/s\u001b[0m eta \u001b[36m0:00:00\u001b[0m\n",
            "\u001b[?25h"
          ]
        }
      ],
      "source": [
        "#! pip install -qU wolframalpha"
      ]
    },
    {
      "cell_type": "code",
      "execution_count": null,
      "metadata": {
        "id": "IsWxCK0pMSEo"
      },
      "outputs": [],
      "source": [
        "#os.environ[\"WOLFRAM_ALPHA_APPID\"] = userdata.get('WOLFRAM_ALPHA_APPID')"
      ]
    },
    {
      "cell_type": "code",
      "execution_count": null,
      "metadata": {
        "id": "VLRsUIEqkgv6"
      },
      "outputs": [],
      "source": [
        "#! pip install nest_asyncio"
      ]
    },
    {
      "cell_type": "code",
      "execution_count": null,
      "metadata": {
        "id": "JCXbww1aksXL"
      },
      "outputs": [],
      "source": [
        "#import nest_asyncio\n",
        "#nest_asyncio.apply()"
      ]
    },
    {
      "cell_type": "code",
      "execution_count": null,
      "metadata": {
        "colab": {
          "base_uri": "https://localhost:8080/",
          "height": 35
        },
        "id": "UQpzLw74_Qef",
        "outputId": "d366994c-0d1c-459e-f650-ec63f53bbea0"
      },
      "outputs": [
        {
          "data": {
            "application/vnd.google.colaboratory.intrinsic+json": {
              "type": "string"
            },
            "text/plain": [
              "\"Wolfram Alpha wasn't able to answer it\""
            ]
          },
          "execution_count": 11,
          "metadata": {},
          "output_type": "execute_result"
        }
      ],
      "source": [
        "### WOLFRAM-ALPHA\n",
        "\n",
        "#from langchain_community.utilities.wolfram_alpha import WolframAlphaAPIWrapper\n",
        "\n",
        "\n",
        "#wolf = WolframAlphaAPIWrapper()\n",
        "#problem = \"\"\"\n",
        "#Masha and the Bear ate 51 cookies and a jar of jam, starting and finishing at the same time. At first, Masha was eating the jam, and the Bear was eating the cookies,\n",
        "# but at some point, they switched. The Bear eats both four times faster than Masha. How many cookies did the Bear eat if they ate the jam equally?\n",
        "#\"\"\"\n",
        "#wolf.run(problem)"
      ]
    },
    {
      "cell_type": "markdown",
      "metadata": {
        "id": "jsld7svqNI1y"
      },
      "source": [
        "If you get an error, uncomment and run the code block below. After that, re-run the cell above."
      ]
    },
    {
      "cell_type": "code",
      "execution_count": null,
      "metadata": {
        "id": "9AZzef2ZNCTe"
      },
      "outputs": [],
      "source": [
        "# ! pip install -qU nest_asyncio\n",
        "\n",
        "# import nest_asyncio\n",
        "# nest_asyncio.apply()"
      ]
    },
    {
      "cell_type": "markdown",
      "source": [
        "Next component:"
      ],
      "metadata": {
        "id": "SBmtUvWYdp6o"
      }
    },
    {
      "cell_type": "code",
      "execution_count": 7,
      "metadata": {
        "id": "Lr-uRyVT_Qeh"
      },
      "outputs": [],
      "source": [
        "# Simple arithmetic chain\n",
        "\n",
        "from langchain.prompts import PromptTemplate\n",
        "from langchain_groq import ChatGroq\n",
        "from langchain_core.output_parsers import StrOutputParser\n",
        "\n",
        "# Define the prompt template for solving simple arithmetic problems\n",
        "solve_arithmetic_prompt = PromptTemplate(\n",
        "    template=\"\"\"You are an expert in solving simple arithmetic problems. Given the following arithmetic problem, provide a clear and concise solution.\n",
        "\n",
        "Problem: {problem}\n",
        "\n",
        "Solution:\n",
        "Please no preamble or extra sentences, just the solution.\"\"\",\n",
        "    input_variables=[\"problem\"],\n",
        ")\n",
        "\n",
        "# Initialize the LLM for solving arithmetic problems\n",
        "llm = ChatGroq(temperature=0.1, model_name=\"llama-3.1-70b-versatile\")\n",
        "arithmetic_solver = solve_arithmetic_prompt | llm | StrOutputParser()"
      ]
    },
    {
      "cell_type": "code",
      "execution_count": 8,
      "metadata": {
        "colab": {
          "base_uri": "https://localhost:8080/"
        },
        "id": "PKyOLByM_Qeh",
        "outputId": "a103df40-c926-49a8-eec5-af1e671a947a"
      },
      "outputs": [
        {
          "output_type": "stream",
          "name": "stdout",
          "text": [
            "\\(3 - 3\\left(5 - 2x\\right) = 8x - 2\\)\n",
            "\n",
            "\\(3 - 15 + 6x = 8x - 2\\)\n",
            "\n",
            "\\(-12 + 6x = 8x - 2\\)\n",
            "\n",
            "\\(-12 + 2 = 8x - 6x\\)\n",
            "\n",
            "\\(-10 = 2x\\)\n",
            "\n",
            "\\(x = -5\\)\n"
          ]
        }
      ],
      "source": [
        "problem = \"\"\"\n",
        "Find the root of the equation \\(3 - 3\\left(5 - 2x\\right) = 8x - 2\\).\n",
        "\"\"\"\n",
        "response = arithmetic_solver.invoke({\"problem\": problem})\n",
        "print(response)"
      ]
    },
    {
      "cell_type": "markdown",
      "source": [
        "Next component:"
      ],
      "metadata": {
        "id": "hRWJaok1d6IR"
      }
    },
    {
      "cell_type": "code",
      "execution_count": 9,
      "metadata": {
        "id": "_i5aftvc_Qeh"
      },
      "outputs": [],
      "source": [
        "# Word Problem Chain\n",
        "\n",
        "from langchain.prompts import PromptTemplate\n",
        "#from langchain_anthropic import ChatAnthropic\n",
        "from langchain_openai import ChatOpenAI\n",
        "from langchain_core.output_parsers import StrOutputParser\n",
        "\n",
        "# Define the prompt template for solving word problems\n",
        "solve_word_problem_prompt = PromptTemplate(\n",
        "    template=\"\"\"You are an expert in solving word problems. Given the following word problem, analyze the scenario, extract the necessary information, and provide a clear and concise solution.\n",
        "\n",
        "Problem: {problem}\n",
        "\n",
        "Solution:\n",
        "Please no preamble or extra sentences, just the solution.\"\"\",\n",
        "    input_variables=[\"problem\"],\n",
        ")\n",
        "\n",
        "# Initialize the LLM for solving word problems\n",
        "#llm = ChatAnthropic(model='claude-3-5-sonnet-20240620', temperature=0)\n",
        "llm = ChatOpenAI(model='gpt-4o-mini', temperature=0)\n",
        "word_problem_solver = solve_word_problem_prompt | llm | StrOutputParser()"
      ]
    },
    {
      "cell_type": "code",
      "execution_count": 10,
      "metadata": {
        "colab": {
          "base_uri": "https://localhost:8080/"
        },
        "id": "GqorqIPbQtsz",
        "outputId": "5419b075-3b48-4082-b250-06fdfac9a85b"
      },
      "outputs": [
        {
          "output_type": "stream",
          "name": "stdout",
          "text": [
            "Solution: Let Masha's eating rate be \\( m \\) cookies per minute. Then the Bear's eating rate is \\( 4m \\) cookies per minute.\n",
            "\n",
            "Let \\( t_1 \\) be the time Masha spent eating the jam and the Bear spent eating cookies, and let \\( t_2 \\) be the time they spent after switching.\n",
            "\n",
            "During \\( t_1 \\):\n",
            "- Masha eats jam (let's denote the amount of jam eaten by \\( J \\)).\n",
            "- The Bear eats cookies: \\( 4m t_1 \\).\n",
            "\n",
            "During \\( t_2 \\):\n",
            "- Masha eats cookies: \\( m t_2 \\).\n",
            "- The Bear eats jam (let's denote the amount of jam eaten by \\( J' \\)).\n",
            "\n",
            "Since they ate the jam equally, we have:\n",
            "\\[ J = J' \\]\n",
            "\n",
            "The total number of cookies eaten is:\n",
            "\\[ 4m t_1 + m t_2 = 51 \\]\n",
            "\n",
            "Since they ate the jam equally, we can denote the amount of jam eaten by each as \\( J \\). Thus:\n",
            "\\[ J = J' \\]\n",
            "\n",
            "Now, since the Bear eats four times faster than Masha, we can express the time spent eating jam in terms of cookies:\n",
            "\\[ J = 4m t_1 \\cdot \\frac{1}{4} = m t_1 \\]\n",
            "\n",
            "So, we have:\n",
            "\\[ J = m t_1 \\]\n",
            "\\[ J' = 4m t_2 \\cdot \\frac{1}{4} = m t_2 \\]\n",
            "\n",
            "Setting \\( J = J' \\):\n",
            "\\[ m t_1 = m t_2 \\]\n",
            "Thus, \\( t_1 = t_2 \\).\n",
            "\n",
            "Let \\( t = t_1 = t_2 \\). Then we can rewrite the cookie equation:\n",
            "\\[ 4m t + m t = 51 \\]\n",
            "\\[ 5m t = 51 \\]\n",
            "\\[ m t = \\frac{51}{5} = 10.2 \\]\n",
            "\n",
            "Now, the Bear's total cookies eaten:\n",
            "\\[ 4m t = 4 \\cdot 10.2 = 40.8 \\]\n",
            "\n",
            "Since the Bear cannot eat a fraction of a cookie, we round down to the nearest whole number:\n",
            "The Bear ate 40 cookies.\n"
          ]
        }
      ],
      "source": [
        "problem = \"\"\"\n",
        "Masha and the Bear ate 51 cookies and a jar of jam, starting and finishing at the same time. At first, Masha was eating the jam, and the Bear was eating the cookies,\n",
        " but at some point, they switched. The Bear eats both four times faster than Masha. How many cookies did the Bear eat if they ate the jam equally?\n",
        "\"\"\"\n",
        "response = word_problem_solver.invoke({\"problem\": problem})\n",
        "print(f\"Solution: {response}\")"
      ]
    },
    {
      "cell_type": "markdown",
      "source": [
        "Next component:"
      ],
      "metadata": {
        "id": "cuND-gpSfazl"
      }
    },
    {
      "cell_type": "code",
      "execution_count": 11,
      "metadata": {
        "id": "Rg6vAaD8_Qeh"
      },
      "outputs": [],
      "source": [
        "### Complex Queries chain\n",
        "\n",
        "from langchain.prompts import PromptTemplate\n",
        "from langchain_openai import ChatOpenAI\n",
        "from langchain_core.output_parsers import StrOutputParser\n",
        "\n",
        "# Define the prompt template for solving complex problems\n",
        "solve_others_prompt = PromptTemplate(\n",
        "    template=\"\"\"\n",
        "You are an expert in solving complex and intricate math problems that do not fit into basic arithmetic or word problems. Given the following problem, provide a clear,\n",
        "\n",
        "detailed, and accurate solution.\n",
        "\n",
        "Problem: {problem}\n",
        "\n",
        "Solution:\n",
        "Please ensure that your explanation is thorough and your solution is correct. Avoid any preamble or extra sentences. Make sure to carefully address all aspects of the problem\n",
        "to provide a comprehensive solution.\n",
        "\"\"\",\n",
        "    input_variables=[\"problem\"],\n",
        ")\n",
        "\n",
        "# Initialize the LLM for solving complex problems\n",
        "llm = ChatOpenAI(temperature=0, model_name=\"gpt-4o\")\n",
        "others_solver = solve_others_prompt | llm | StrOutputParser()"
      ]
    },
    {
      "cell_type": "code",
      "execution_count": 12,
      "metadata": {
        "colab": {
          "base_uri": "https://localhost:8080/"
        },
        "id": "Y8EZ7YpM_Qei",
        "outputId": "990c97ac-7038-4c72-d00b-a81e8fabf9e9"
      },
      "outputs": [
        {
          "output_type": "stream",
          "name": "stdout",
          "text": [
            "Solution: To solve the problem, we need to find a four-digit number that meets the following criteria:\n",
            "1. It is a multiple of 15.\n",
            "2. The product of its digits is greater than 55 but less than 65.\n",
            "\n",
            "A number is a multiple of 15 if it is divisible by both 3 and 5. For a number to be divisible by 5, its last digit must be 0 or 5. For a number to be divisible by 3, the sum of its digits must be divisible by 3.\n",
            "\n",
            "Let's start by considering the last digit to be 5 (since it must be 0 or 5 to be a multiple of 5). We will then find the other three digits such that the product of all four digits is between 55 and 65.\n",
            "\n",
            "Let the four-digit number be represented as \\( \\overline{abcd} \\), where \\( d = 5 \\). Therefore, we need to find \\( a, b, \\) and \\( c \\) such that:\n",
            "\\[ a \\times b \\times c \\times 5 \\] is between 55 and 65.\n",
            "\n",
            "This simplifies to:\n",
            "\\[ 11 < a \\times b \\times c < 13 \\]\n",
            "\n",
            "We also need the sum of the digits \\( a + b + c + 5 \\) to be divisible by 3.\n",
            "\n",
            "Let's test possible values for \\( a, b, \\) and \\( c \\):\n",
            "\n",
            "1. \\( a = 1, b = 3, c = 4 \\):\n",
            "   \\[ 1 \\times 3 \\times 4 = 12 \\]\n",
            "   \\[ 11 < 12 < 13 \\]\n",
            "   \\[ a + b + c + 5 = 1 + 3 + 4 + 5 = 13 \\]\n",
            "   13 is not divisible by 3.\n",
            "\n",
            "2. \\( a = 2, b = 2, c = 3 \\):\n",
            "   \\[ 2 \\times 2 \\times 3 = 12 \\]\n",
            "   \\[ 11 < 12 < 13 \\]\n",
            "   \\[ a + b + c + 5 = 2 + 2 + 3 + 5 = 12 \\]\n",
            "   12 is divisible by 3.\n",
            "\n",
            "Thus, the digits \\( a = 2, b = 2, c = 3, d = 5 \\) form a valid number.\n",
            "\n",
            "The four-digit number is:\n",
            "\\[ 2235 \\]\n",
            "\n",
            "Verification:\n",
            "- It is a multiple of 15 (divisible by both 3 and 5).\n",
            "- The product of its digits is \\( 2 \\times 2 \\times 3 \\times 5 = 60 \\), which is between 55 and 65.\n",
            "\n",
            "Therefore, one such number is:\n",
            "\\[ 2235 \\]\n"
          ]
        }
      ],
      "source": [
        "problem = \"\"\"\n",
        "Find a four-digit number that is a multiple of 15, whose digits' product is greater than 55 but less than 65. Provide any one such number in your answer.\n",
        "\"\"\"\n",
        "response = others_solver.invoke({\"problem\": problem})\n",
        "print(f\"Solution: {response}\")"
      ]
    },
    {
      "cell_type": "markdown",
      "source": [
        "Next component:"
      ],
      "metadata": {
        "id": "0aUB_Ukafif6"
      }
    },
    {
      "cell_type": "code",
      "execution_count": 13,
      "metadata": {
        "id": "prWv1lNVYxV3"
      },
      "outputs": [],
      "source": [
        "solution = \"\"\"To solve the problem of finding the probability that the first athlete to perform in the gymnastics championship will be from Germany, we need to follow these steps:\n",
        "\n",
        "### Step 1: Determine the Total Number of Athletes\n",
        "We are given that there are 50 athletes in total.\n",
        "\n",
        "### Step 2: Determine the Number of Athletes from Each Country\n",
        "- United Kingdom: 16 athletes\n",
        "- France: 11 athletes\n",
        "- Germany: The rest of the athletes\n",
        "\n",
        "### Step 3: Calculate the Number of Athletes from Germany\n",
        "To find the number of athletes from Germany, we subtract the number of athletes from the United Kingdom and France from the total number of athletes:\n",
        "\\[ \\text{Number of athletes from Germany} = 50 - 16 - 11 = 23 \\]\n",
        "\n",
        "### Step 4: Calculate the Probability\n",
        "The probability that the first athlete to perform will be from Germany is the ratio of the number of German athletes to the total number of athletes:\n",
        "\\[ P(\\text{First athlete from Germany}) = \\frac{\\text{Number of athletes from Germany}}{\\text{Total number of athletes}} = \\frac{23}{50} \\]\n",
        "\n",
        "### Step 5: Simplify the Probability (if necessary)\n",
        "In this case, the fraction \\(\\frac{23}{50}\\) is already in its simplest form.\n",
        "\n",
        "### Conclusion\n",
        "The probability that the first athlete to perform will be from Germany is \\(\\frac{23}{50}\\).\n",
        "\n",
        "So, the final answer is:\n",
        "\\[ \\boxed{\\frac{23}{50}} \\]\"\"\"\n",
        "\n",
        "\n",
        "\n",
        "\n",
        "problem = \"\"\"Here is the translated problem:\n",
        "\n",
        "In the gymnastics championship, there are 50 athletes participating: 16 from the United Kingdom, 11 from France, and the rest from Germany. The order in which the gymnasts perform is determined by drawing lots. Find the probability that the athlete who performs first will be from Germany.\n",
        "\n",
        "\"\"\""
      ]
    },
    {
      "cell_type": "code",
      "execution_count": 14,
      "metadata": {
        "id": "9zJVEIek1Cy0"
      },
      "outputs": [],
      "source": [
        "### Code Generation Chain\n",
        "\n",
        "from langchain.prompts import PromptTemplate\n",
        "from langchain_openai import ChatOpenAI\n",
        "from langchain_core.output_parsers import StrOutputParser\n",
        "\n",
        "# Define the prompt template\n",
        "code_prompt = PromptTemplate(\n",
        "    template=\"\"\"\n",
        "You are an expert in transforming math problems to executable python code.\n",
        "Here is the problem:\n",
        "\n",
        "Problem: {problem}\n",
        "\n",
        "Please provide the python code/ function to solve this problem. Provide the solution clearly without any extra explanation.\n",
        "\n",
        "Solution:\n",
        "\"\"\",\n",
        "    input_variables=[\"problem\"],\n",
        ")\n",
        "\n",
        "# Initialize the LLM for solving the problem\n",
        "llm = ChatOpenAI(temperature=0, model_name=\"gpt-4o\")\n",
        "\n",
        "# Create the chain\n",
        "code_chain = code_prompt | llm | StrOutputParser()"
      ]
    },
    {
      "cell_type": "code",
      "execution_count": 15,
      "metadata": {
        "colab": {
          "base_uri": "https://localhost:8080/"
        },
        "id": "3zHFF6hwhscE",
        "outputId": "0d794401-2993-448a-c3c1-7edd0d4a60c6"
      },
      "outputs": [
        {
          "output_type": "stream",
          "name": "stdout",
          "text": [
            "IMPROVED QUERY: ```python\n",
            "from itertools import combinations\n",
            "\n",
            "def find_divisible_by_22(number):\n",
            "    number_str = str(number)\n",
            "    length = len(number_str)\n",
            "    \n",
            "    for comb in combinations(range(length), 3):\n",
            "        new_number_list = [number_str[i] for i in range(length) if i not in comb]\n",
            "        new_number = int(''.join(new_number_list))\n",
            "        if new_number % 22 == 0:\n",
            "            return new_number\n",
            "\n",
            "number = 14563743\n",
            "result = find_divisible_by_22(number)\n",
            "print(result)\n",
            "```\n",
            "\n",
            "Output:\n",
            "```plaintext\n",
            "1456743\n",
            "```\n"
          ]
        }
      ],
      "source": [
        "problem = \"\"\"Cross out three digits in the number 14563743 so that the resulting number is divisible by 22. In the answer, indicate any one resulting number.\"\"\"\n",
        "\n",
        "response1 = code_chain.invoke({\"problem\": problem})\n",
        "\n",
        "#print(f\"ORIGINAL QUERY: {problem}\")\n",
        "print(f\"IMPROVED QUERY: {response1}\")"
      ]
    },
    {
      "cell_type": "code",
      "execution_count": 16,
      "metadata": {
        "colab": {
          "base_uri": "https://localhost:8080/"
        },
        "id": "1TV5ooBy2Jve",
        "outputId": "de6b6b76-cbf2-4ce9-91d4-2de8dcf7d42a"
      },
      "outputs": [
        {
          "output_type": "stream",
          "name": "stdout",
          "text": [
            "14674\n"
          ]
        }
      ],
      "source": [
        "from itertools import combinations\n",
        "\n",
        "def is_divisible_by_22(number):\n",
        "    return number % 22 == 0\n",
        "\n",
        "def find_divisible_number(original_number):\n",
        "    str_num = str(original_number)\n",
        "    length = len(str_num)\n",
        "\n",
        "    for digits_to_remove in combinations(range(length), 3):\n",
        "        new_number_list = [str_num[i] for i in range(length) if i not in digits_to_remove]\n",
        "        new_number = int(''.join(new_number_list))\n",
        "        if is_divisible_by_22(new_number):\n",
        "            return new_number\n",
        "    return None\n",
        "\n",
        "original_number = 14563743\n",
        "result = find_divisible_number(original_number)\n",
        "print(result)"
      ]
    },
    {
      "cell_type": "markdown",
      "source": [
        "Next component:"
      ],
      "metadata": {
        "id": "bGdP_H_ggCXA"
      }
    },
    {
      "cell_type": "code",
      "execution_count": 17,
      "metadata": {
        "id": "LDMZSY89jqEE"
      },
      "outputs": [],
      "source": [
        "### Solution Correctness Chain\n",
        "\n",
        "from langchain.prompts import PromptTemplate\n",
        "from langchain_openai import ChatOpenAI\n",
        "from langchain_core.output_parsers import JsonOutputParser\n",
        "\n",
        "# Define the prompt template for evaluating solution correctness\n",
        "correctness_prompt = PromptTemplate(\n",
        "    template=\"\"\"You are an expert in evaluating the correctness of solutions to math problems. Given the following problem and solution,\n",
        "determine whether the solution is correct or incorrect.\n",
        "\n",
        "Problem: {problem}\n",
        "\n",
        "Solution: {solution}\n",
        "\n",
        "Evaluate the solution and respond with a JSON object containing a single key 'GRADE' with the value 'CORRECT' if the solution is correct,\n",
        "or 'INCORRECT' if the solution is incorrect. Only provide the JSON object without any additional explanation.\n",
        "\n",
        "JSON Response:\n",
        "\"\"\",\n",
        "    input_variables=[\"problem\", \"solution\"],\n",
        ")\n",
        "\n",
        "# Initialize the LLM for evaluating solution correctness\n",
        "llm = ChatOpenAI(temperature=0, model_name=\"gpt-4o\")\n",
        "\n",
        "# Create the chain for solution correctness evaluation\n",
        "correctness_chain = correctness_prompt | llm | JsonOutputParser()"
      ]
    },
    {
      "cell_type": "code",
      "execution_count": 18,
      "metadata": {
        "id": "boahNe3tkAvL"
      },
      "outputs": [],
      "source": [
        "solution = \"\"\"\n",
        "To solve the problem of crossing out three digits in the number 14563743 so that the resulting number is divisible by 22, we need to understand the divisibility rules for 22. A number is divisible by 22 if it is divisible by both 2 and 11.\n",
        "\n",
        "### Divisibility Rules:\n",
        "1. **Divisibility by 2**: The number must end in an even digit.\n",
        "2. **Divisibility by 11**: The difference between the sum of the digits in the odd positions and the sum of the digits in the even positions must be a multiple of 11 (including 0).\n",
        "\n",
        "### Step-by-Step Solution:\n",
        "\n",
        "1. **Identify the digits**: The number is 14563743.\n",
        "2. **Check possible combinations**: We need to cross out three digits and check the resulting number for divisibility by 22.\n",
        "\n",
        "Let's try different combinations and check the resulting numbers:\n",
        "\n",
        "#### Example 1:\n",
        "- Cross out digits: 1, 4, 3\n",
        "- Resulting number: 56374\n",
        "\n",
        "**Check divisibility by 2**:\n",
        "- The last digit is 4, which is even. So, 56374 is divisible by 2.\n",
        "\n",
        "**Check divisibility by 11**:\n",
        "- Sum of digits in odd positions: 5 + 3 + 4 = 12\n",
        "- Sum of digits in even positions: 6 + 7 = 13\n",
        "- Difference: |12 - 13| = 1 (not a multiple of 11)\n",
        "\n",
        "56374 is not divisible by 11, so it is not divisible by 22.\n",
        "\n",
        "#### Example 2:\n",
        "- Cross out digits: 1, 5, 3\n",
        "- Resulting number: 46374\n",
        "\n",
        "**Check divisibility by 2**:\n",
        "- The last digit is 4, which is even. So, 46374 is divisible by 2.\n",
        "\n",
        "**Check divisibility by 11**:\n",
        "- Sum of digits in odd positions: 4 + 3 + 4 = 11\n",
        "- Sum of digits in even positions: 6 + 7 = 13\n",
        "- Difference: |11 - 13| = 2 (not a multiple of 11)\n",
        "\n",
        "46374 is not divisible by 11, so it is not divisible by 22.\n",
        "\n",
        "#### Example 3:\n",
        "- Cross out digits: 1, 4, 7\n",
        "- Resulting number: 56343\n",
        "\n",
        "**Check divisibility by 2**:\n",
        "- The last digit is 3, which is odd. So, 56343 is not divisible by 2.\n",
        "\n",
        "#### Example 4:\n",
        "- Cross out digits: 1, 4, 6\n",
        "- Resulting number: 53743\n",
        "\n",
        "**Check divisibility by 2**:\n",
        "- The last digit is 3, which is odd. So, 53743 is not divisible by 2.\n",
        "\n",
        "#### Example 5:\n",
        "- Cross out digits: 1, 4, 5\n",
        "- Resulting number: 63743\n",
        "\n",
        "**Check divisibility by 2**:\n",
        "- The last digit is 3, which is odd. So, 63743 is not divisible by 2.\n",
        "\n",
        "#### Example 6:\n",
        "- Cross out digits: 1, 4, 3 (different 3)\n",
        "- Resulting number: 56374 (already checked)\n",
        "\n",
        "#### Example 7:\n",
        "- Cross out digits: 1, 5, 4\n",
        "- Resulting number: 63743 (already checked)\n",
        "\n",
        "#### Example 8:\n",
        "- Cross out digits: 1, 5, 7\n",
        "- Resulting number: 46343\n",
        "\n",
        "**Check divisibility by 2**:\n",
        "- The last digit is 3, which is odd. So, 46343 is not divisible by 2.\n",
        "\n",
        "#### Example 9:\n",
        "- Cross out digits: 1, 5, 6\n",
        "- Resulting number: 43743\n",
        "\n",
        "**Check divisibility by 2**:\n",
        "- The last digit is 3, which is odd. So, 43743 is not divisible by 2.\n",
        "\n",
        "#### Example 10:\n",
        "- Cross out digits: 1, 6, 3\n",
        "- Resulting number: 45743\n",
        "\n",
        "**Check divisibility by 2**:\n",
        "- The last digit is 3, which is odd. So, 45743 is not divisible by 2.\n",
        "\n",
        "#### Example 11:\n",
        "- Cross out digits: 1, 6, 7\n",
        "- Resulting number: 45343\n",
        "\n",
        "**Check divisibility by 2**:\n",
        "- The last digit is 3, which is odd. So, 45343 is not divisible by 2.\n",
        "\n",
        "#### Example 12:\n",
        "- Cross out digits: 1, 6, 4\n",
        "- Resulting number: 53743 (already checked)\n",
        "\n",
        "#### Example 13:\n",
        "- Cross out digits: 1, 7, 3\n",
        "- Resulting number: 45643\n",
        "\n",
        "**Check divisibility by 2**:\n",
        "- The last digit is 3, which is odd. So, 45643 is not divisible by 2.\n",
        "\n",
        "#### Example 14:\n",
        "- Cross out digits: 1, 7, 4\n",
        "- Resulting number: 56343 (already checked)\n",
        "\n",
        "#### Example 15:\n",
        "- Cross out digits: 1, 7, 6\n",
        "- Resulting number: 45343 (already checked)\n",
        "\n",
        "Therefore, answer is 45343\n",
        "\"\"\""
      ]
    },
    {
      "cell_type": "code",
      "execution_count": 19,
      "metadata": {
        "id": "iL0AXpF3kipK"
      },
      "outputs": [],
      "source": [
        "problem = \"\"\"Cross out three digits in the number 14563743 so that the resulting number is divisible by 22. In the answer, indicate any one resulting number.\"\"\""
      ]
    },
    {
      "cell_type": "code",
      "execution_count": 20,
      "metadata": {
        "colab": {
          "base_uri": "https://localhost:8080/"
        },
        "id": "2St_qhimj6np",
        "outputId": "6df6850e-9c01-41f7-a8c4-b0bcf6bab98f"
      },
      "outputs": [
        {
          "output_type": "stream",
          "name": "stdout",
          "text": [
            "Solution: {'GRADE': 'INCORRECT'}\n"
          ]
        }
      ],
      "source": [
        "response = correctness_chain.invoke({\"problem\": problem, \"solution\": solution})\n",
        "print(f\"Solution: {response}\")"
      ]
    },
    {
      "cell_type": "markdown",
      "source": [
        "Chains ready. Next, graph components."
      ],
      "metadata": {
        "id": "3uKu4fB2gTT3"
      }
    },
    {
      "cell_type": "code",
      "execution_count": 21,
      "metadata": {
        "id": "X8Zh64yG_Qek"
      },
      "outputs": [],
      "source": [
        "from typing_extensions import TypedDict\n",
        "\n",
        "\n",
        "class AgentState(TypedDict):\n",
        "    problem: str\n",
        "    solution: str\n",
        "    #retries: int"
      ]
    },
    {
      "cell_type": "code",
      "execution_count": 22,
      "metadata": {
        "id": "uwZZlGw__Qek"
      },
      "outputs": [],
      "source": [
        "### Edges ###\n",
        "\n",
        "from langchain.schema import Document\n",
        "\n",
        "def route_problem(state: AgentState):\n",
        "    \"\"\"\n",
        "    Route math problem to appriopriate Datasource.\n",
        "\n",
        "    Args:\n",
        "        state (dict): The current graph state\n",
        "\n",
        "    Returns:\n",
        "        str: Next node to call\n",
        "    \"\"\"\n",
        "\n",
        "    problem = state[\"problem\"]\n",
        "    print(f\"Problem: {problem}\")\n",
        "    print(\"IS THIS MATH PROBLEM SIMPLE, BASIC, OR COMPLEX?...\")\n",
        "    route = question_router.invoke({\"problem\": problem})\n",
        "    value = route.get(\"DATASOURCE\", \"No key found\")\n",
        "\n",
        "    if value.lower() == 'simple_arithmetic':\n",
        "        print(\"The problem is simple.\")\n",
        "        return \"basic_arithmetic\"\n",
        "    elif value.lower() == 'word_problems':\n",
        "         print(\"This is a word problem.\")\n",
        "         return \"word_problem\"\n",
        "    print(\"The problem is complicated.\")\n",
        "    message = \"complex\"\n",
        "    return message\n",
        "\n",
        "\n",
        "def decide_to_generate(state: AgentState):\n",
        "    \"\"\"\n",
        "    Grade the correctness of a solution to a math problem.\n",
        "    Args:\n",
        "        state (dict): The current graph state\n",
        "\n",
        "    Returns:\n",
        "        state (dict): New key added to state\n",
        "    \"\"\"\n",
        "    print(\"Is this solution correct?...\")\n",
        "    state[\"problem\"] = problem\n",
        "    state[\"solution\"] = solution\n",
        "    response = correctness_chain.invoke({\"problem\": problem, \"solution\": solution})\n",
        "    value = response.get(\"GRADE\", \"No key found\")\n",
        "    print(f\"Solution is {value}\")\n",
        "\n",
        "    if value.lower() == \"correct\":\n",
        "        return \"generate\"\n",
        "    else:\n",
        "        return \"transform_query\""
      ]
    },
    {
      "cell_type": "code",
      "execution_count": 23,
      "metadata": {
        "id": "1MWtQ_vk_Qek"
      },
      "outputs": [],
      "source": [
        "### Nodes ###\n",
        "def basic_arithmetic(state: AgentState):\n",
        "    print(\"...BASIC ARITHMETIC...\")\n",
        "\n",
        "    problem = state[\"problem\"]\n",
        "    solution = arithmetic_solver.invoke({\"problem\": problem})\n",
        "    print(solution)\n",
        "\n",
        "    state[\"solution\"] = solution\n",
        "\n",
        "    return state\n",
        "\n",
        "def word_problem(state: AgentState):\n",
        "    print(\"...WORD PROBLEM...\")\n",
        "\n",
        "    problem = state[\"problem\"]\n",
        "    solution = word_problem_solver.invoke({\"problem\": problem})\n",
        "    print(solution)\n",
        "\n",
        "    state[\"solution\"] = solution\n",
        "\n",
        "    return state\n",
        "\n",
        "def complex(state: AgentState):\n",
        "    print(\"...COMPLEX PROBLEM...\")\n",
        "\n",
        "    problem = state[\"problem\"]\n",
        "    solution = others_solver.invoke({\"problem\": problem})\n",
        "    print(solution)\n",
        "\n",
        "    state[\"solution\"] = solution\n",
        "\n",
        "    return state\n",
        "\n",
        "def generate(state: AgentState):\n",
        "    \"\"\"\n",
        "    Generate answer\n",
        "\n",
        "    Args:\n",
        "        state (AgentState): The current graph state\n",
        "\n",
        "    Returns:\n",
        "        AgentState\n",
        "    \"\"\"\n",
        "    print(\"Final answer...\")\n",
        "    problem = state[\"problem\"]\n",
        "    solution = state[\"solution\"]\n",
        "\n",
        "    generation = generate_chain.invoke({\"problem\": problem, \"solution\": solution})\n",
        "\n",
        "    print(f\"The answer to the problem is: {generation}\")\n",
        "    return state\n",
        "\n",
        "def transform_query(state: AgentState):\n",
        "    \"\"\"\n",
        "    Transform the query to produce a better question.\n",
        "\n",
        "    Args:\n",
        "        state (AgentState): The current graph state\n",
        "\n",
        "    Returns:\n",
        "        AgentState: Updates question key with a re-phrased question\n",
        "    \"\"\"\n",
        "    print(\"Transforming query into python code...\")\n",
        "    problem = state[\"problem\"]\n",
        "\n",
        "    response = code_chain.invoke({\"problem\": problem})\n",
        "\n",
        "    print(f\"Execute this code: {response}\")\n",
        "\n",
        "    #state[\"problem\"] = response\n",
        "    return state\n",
        "\n",
        "def execute_transformed_query(state: AgentState):\n",
        "    \"\"\"\n",
        "    Execute the transformed python code to solve the math problem.\n",
        "\n",
        "    Args:\n",
        "        state (AgentState): The current graph state\n",
        "\n",
        "    Returns:\n",
        "        AgentState: Updates the result key with the result of the execution\n",
        "    \"\"\"\n",
        "    print(\"Executing transformed pseudocode...\")\n",
        "    code = state[\"problem\"]  # The problem now contains the pseudocode\n",
        "\n",
        "    response = execute_chain.invoke({\"code\": code})\n",
        "\n",
        "    print(f\"TRANSFORMED QUERY: {code}\")\n",
        "    print(f\"RESULT: {response}\")\n",
        "\n",
        "    state[\"result\"] = response\n",
        "    return state"
      ]
    },
    {
      "cell_type": "code",
      "execution_count": 24,
      "metadata": {
        "id": "rVgVNbnz_Qek"
      },
      "outputs": [],
      "source": [
        "from langgraph.graph import StateGraph, END\n",
        "\n",
        "workflow = StateGraph(AgentState)\n",
        "\n",
        "#workflow.add_node(\"route_problem\", route_problem)\n",
        "workflow.add_node(\"basic_arithmetic\", basic_arithmetic)\n",
        "workflow.add_node(\"word_problem\", word_problem)\n",
        "workflow.add_node(\"complex\", transform_query)\n",
        "workflow.add_node(\"generate\", generate)\n",
        "workflow.add_node(\"transform_query\", transform_query)\n",
        "\n",
        "# Set the entry point\n",
        "workflow.set_conditional_entry_point(\n",
        "    route_problem,\n",
        "    {\n",
        "        \"basic_arithmetic\": \"basic_arithmetic\",\n",
        "        \"word_problem\": \"word_problem\",\n",
        "        \"complex\": \"complex\"\n",
        "    },\n",
        ")\n",
        "\n",
        "\n",
        "workflow.add_conditional_edges(\n",
        "    \"basic_arithmetic\",\n",
        "    decide_to_generate,\n",
        "    {\n",
        "        \"generate\": \"generate\",\n",
        "        \"transform_query\": \"transform_query\",\n",
        "    },\n",
        ")\n",
        "workflow.add_conditional_edges(\n",
        "    \"word_problem\",\n",
        "    decide_to_generate,\n",
        "    {\n",
        "        \"generate\": \"generate\",\n",
        "        \"transform_query\": \"transform_query\",\n",
        "    },\n",
        ")\n",
        "workflow.add_conditional_edges(\n",
        "    \"complex\",\n",
        "    decide_to_generate,\n",
        "    {\n",
        "        \"generate\": \"generate\",\n",
        "        \"transform_query\": \"transform_query\",\n",
        "    },\n",
        ")\n",
        "\n",
        "workflow.add_edge(\"generate\", END)\n",
        "workflow.add_edge(\"transform_query\", END)\n",
        "\n",
        "\n",
        "\n",
        "\n",
        "app = workflow.compile()  #debug=True"
      ]
    },
    {
      "cell_type": "code",
      "execution_count": 31,
      "metadata": {
        "colab": {
          "base_uri": "https://localhost:8080/",
          "height": 320
        },
        "id": "75FW34rC_Qel",
        "outputId": "8ae4af96-0817-476d-b00d-9a5d6b3d68de"
      },
      "outputs": [
        {
          "output_type": "display_data",
          "data": {
            "image/png": "[encoded data removed]",
            "text/plain": [
              "<IPython.core.display.Image object>"
            ]
          },
          "metadata": {}
        }
      ],
      "source": [
        "from IPython.display import Image, display\n",
        "\n",
        "app.get_graph().draw_mermaid_png(output_file_path=\"graph.png\")\n",
        "\n",
        "# Display the image\n",
        "display(Image(filename=\"graph.png\"))"
      ]
    },
    {
      "cell_type": "code",
      "execution_count": 34,
      "metadata": {
        "id": "RX6Em1Ym_Qel"
      },
      "outputs": [],
      "source": [
        "problem = \"\"\"\n",
        "\n",
        "Find the value of the expression $\\dfrac{2.4\\cdot 10^2}{8\\cdot 10^{-1}}$.\n",
        "\n",
        "\"\"\""
      ]
    },
    {
      "cell_type": "code",
      "execution_count": 35,
      "metadata": {
        "colab": {
          "base_uri": "https://localhost:8080/"
        },
        "id": "lbAmlumN_Qel",
        "outputId": "cbae940d-14dc-4820-b6e2-f77be2678cd3"
      },
      "outputs": [
        {
          "output_type": "stream",
          "name": "stdout",
          "text": [
            "Problem: \n",
            "\n",
            "Find the value of the expression $\\dfrac{2.4\\cdot 10^2}{8\\cdot 10^{-1}}$.\n",
            "\n",
            "\n",
            "IS THIS MATH PROBLEM SIMPLE, BASIC, OR COMPLEX?...\n",
            "The problem is simple.\n",
            "...BASIC ARITHMETIC...\n",
            "$\\dfrac{2.4\\cdot 10^2}{8\\cdot 10^{-1}} = \\dfrac{2.4}{8} \\cdot 10^{2-(-1)} = 0.3 \\cdot 10^3 = 300$\n",
            "Is this solution correct?...\n",
            "Solution is INCORRECT\n",
            "Transforming query into python code...\n",
            "Execute this code: ```python\n",
            "def calculate_expression():\n",
            "    numerator = 2.4 * 10**2\n",
            "    denominator = 8 * 10**-1\n",
            "    result = numerator / denominator\n",
            "    return result\n",
            "\n",
            "# Call the function and print the result\n",
            "print(calculate_expression())\n",
            "```\n",
            "\n",
            "Output:\n",
            "```python\n",
            "30.0\n",
            "```\n"
          ]
        },
        {
          "output_type": "execute_result",
          "data": {
            "text/plain": [
              "{'problem': '\\n\\nFind the value of the expression $\\\\dfrac{2.4\\\\cdot 10^2}{8\\\\cdot 10^{-1}}$.\\n\\n',\n",
              " 'solution': '$\\\\dfrac{2.4\\\\cdot 10^2}{8\\\\cdot 10^{-1}} = \\\\dfrac{2.4}{8} \\\\cdot 10^{2-(-1)} = 0.3 \\\\cdot 10^3 = 300$'}"
            ]
          },
          "metadata": {},
          "execution_count": 35
        }
      ],
      "source": [
        "result = app.invoke({\"problem\": problem})   #, config = {\"configurable\": {\"thread_id\": \"2\"}\n",
        "result"
      ]
    },
    {
      "cell_type": "markdown",
      "source": [
        "Copy the generated code and execute it in the cell blocks below.\n",
        "**Note that**\n",
        "* sometimes the suggested output might be incorrect, so make sure to copy only the code.\n",
        "* For Simple Arithmetic problems, the output might occasionally provide the answer directly without generating any code.\n",
        "* Finally, if it generates two or more codes, take the first one. Try the other codes generated if the first code fails.\n",
        "\n",
        "I should really improve upon this generation part of my application, and I am open to suggestions on how to make this improvement."
      ],
      "metadata": {
        "id": "gIzXuhsTJH7D"
      }
    },
    {
      "cell_type": "code",
      "execution_count": 36,
      "metadata": {
        "colab": {
          "base_uri": "https://localhost:8080/"
        },
        "id": "XCSm9H_Y_Qel",
        "outputId": "68014cd3-1e31-44a3-ad02-88419e928153"
      },
      "outputs": [
        {
          "output_type": "stream",
          "name": "stdout",
          "text": [
            "300.0\n"
          ]
        }
      ],
      "source": [
        "def calculate_expression():\n",
        "    numerator = 2.4 * 10**2\n",
        "    denominator = 8 * 10**-1\n",
        "    result = numerator / denominator\n",
        "    return result\n",
        "\n",
        "# Call the function and print the result\n",
        "print(calculate_expression())"
      ]
    }
  ],
  "metadata": {
    "colab": {
      "provenance": []
    },
    "kernelspec": {
      "display_name": "app",
      "language": "python",
      "name": "python3"
    },
    "language_info": {
      "codemirror_mode": {
        "name": "ipython",
        "version": 3
      },
      "file_extension": ".py",
      "mimetype": "text/x-python",
      "name": "python",
      "nbconvert_exporter": "python",
      "pygments_lexer": "ipython3",
      "version": "3.11.9"
    }
  },
  "nbformat": 4,
  "nbformat_minor": 0
}