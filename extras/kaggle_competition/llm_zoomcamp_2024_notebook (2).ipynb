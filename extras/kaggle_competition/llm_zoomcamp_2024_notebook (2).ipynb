{
  "cells": [
    {
      "cell_type": "markdown",
      "metadata": {},
      "source": [
        "# **LLM Zoomcamp 2024 Competition**\n",
        "### **Author:  [🅱🅻🅰🆀 ](https://www.linkedin.com/in/chinonsoodiaka/)**\n",
        "\n",
        "\n",
        "Welcome to my final submission for the [LLM Zoomcamp 2024 Competition](https://www.kaggle.com/competitions/llm-zoomcamp-2024-competition/overview) hosted by [DataTalksClub](https://datatalks.club/). This notebook showcases an agentic approach to solving complex mathematics problems using Large Language Models (LLMs)."
      ]
    },
    {
      "cell_type": "markdown",
      "metadata": {},
      "source": [
        "### **To Begin**"
      ]
    },
    {
      "cell_type": "markdown",
      "metadata": {
        "id": "uBu5PPEOcKUq"
      },
      "source": [
        "I will install necessary python packages."
      ]
    },
    {
      "cell_type": "code",
      "execution_count": null,
      "metadata": {
        "colab": {
          "base_uri": "https://localhost:8080/"
        },
        "id": "5_5-KKzG_a1H",
        "outputId": "8d25ffd7-cb2f-4a4c-b363-8b43790faf0f"
      },
      "outputs": [],
      "source": [
        "! pip install -qU langchain_huggingface \\\n",
        "langchain_community\\\n",
        "langchain_openai\\\n",
        "langchain_groq\\\n",
        "langchainhub\\\n",
        "langgraph"
      ]
    },
    {
      "cell_type": "markdown",
      "metadata": {
        "id": "R78O5KwjcRX9"
      },
      "source": [
        "I will load my environment keys.\n",
        "\n",
        "If you are running this on Colab:"
      ]
    },
    {
      "cell_type": "code",
      "execution_count": 8,
      "metadata": {
        "id": "2YMhJzW8F3Fp"
      },
      "outputs": [],
      "source": [
        "import os\n",
        "from google.colab import userdata\n",
        "\n",
        "os.environ['OPENAI_API_KEY'] = userdata.get('OPENAI_API_KEY')\n",
        "os.environ[\"GROQ_API_KEY\"] = userdata.get('GROQ_API_KEY')"
      ]
    },
    {
      "cell_type": "markdown",
      "metadata": {},
      "source": [
        "Or uncomment and run code below if you have a ```.env``` file:\n",
        "\n",
        "```\n",
        "OPENAI_API_KEY=...\n",
        "GROQ_API_KEY=...\n",
        "\n",
        "```"
      ]
    },
    {
      "cell_type": "code",
      "execution_count": 1,
      "metadata": {},
      "outputs": [
        {
          "data": {
            "text/plain": [
              "True"
            ]
          },
          "execution_count": 1,
          "metadata": {},
          "output_type": "execute_result"
        }
      ],
      "source": [
        "#from dotenv import load_dotenv\n",
        "#load_dotenv()"
      ]
    },
    {
      "cell_type": "markdown",
      "metadata": {},
      "source": [
        "### **Implementation**\n",
        "\n",
        "Now, I will define the key components of my application. My goal is to create, using LangGraph, an agent with tools that can correctly answer all the varying mathematical concepts represented by the [dataset](https://www.kaggle.com/competitions/llm-zoomcamp-2024-competition/data). In simpler terms, to have a score of **100** on the [Leaderboard](https://www.kaggle.com/competitions/llm-zoomcamp-2024-competition/leaderboard)."
      ]
    },
    {
      "cell_type": "markdown",
      "metadata": {},
      "source": [
        "##### **Tools**"
      ]
    },
    {
      "cell_type": "markdown",
      "metadata": {
        "id": "SBmtUvWYdp6o"
      },
      "source": [
        "First tool, a simple math tool:"
      ]
    },
    {
      "cell_type": "code",
      "execution_count": 2,
      "metadata": {
        "id": "Lr-uRyVT_Qeh"
      },
      "outputs": [],
      "source": [
        "from langchain_core.tools import tool\n",
        "from langchain.prompts import PromptTemplate\n",
        "from langchain_openai import ChatOpenAI\n",
        "from langchain_core.output_parsers import StrOutputParser\n",
        "\n",
        "@tool\n",
        "def simple_math_tool(messages: str) -> str:\n",
        "    \"\"\"\n",
        "    Solve a basic arithmetic problem by generating a Python solution.\n",
        "    \n",
        "    Args:\n",
        "        messages (str): The simple math problem statement.\n",
        "        \n",
        "    Returns:\n",
        "        messages(str): The Python code that solves the problem.\n",
        "    \"\"\"\n",
        "    # Define the prompt template for solving simple math problems\n",
        "    solve_simple_prompt = PromptTemplate(\n",
        "        template=\"\"\"\\\n",
        "You are skilled at solving basic arithmetic problems. Given the following problem, provide a clear and concise solution with an executable python script.\n",
        "\n",
        "\n",
        "Problem: {messages}\n",
        "\n",
        "Solution (executable python script):\n",
        "Make sure your solution is accurate and straightforward. Avoid any extra commentary or unnecessary details.\n",
        "\"\"\",\n",
        "        input_variables=[\"messages\"],\n",
        "    )\n",
        "\n",
        "    # Initialize the LLM for solving simple problems\n",
        "    llm = ChatOpenAI(temperature=0.1, model_name=\"gpt-4o\")\n",
        "    simple_solver = solve_simple_prompt | llm | StrOutputParser()\n",
        "    \n",
        "    # Generate the solution\n",
        "    ans = simple_solver.invoke({\"messages\": messages})\n",
        "    return {\"messages\": ans}\n"
      ]
    },
    {
      "cell_type": "markdown",
      "metadata": {
        "id": "hRWJaok1d6IR"
      },
      "source": [
        "Next tool, word problems:"
      ]
    },
    {
      "cell_type": "code",
      "execution_count": 3,
      "metadata": {
        "id": "_i5aftvc_Qeh"
      },
      "outputs": [],
      "source": [
        "from langchain_core.tools import tool\n",
        "from langchain.prompts import PromptTemplate\n",
        "from langchain_groq import ChatGroq\n",
        "from langchain_core.output_parsers import StrOutputParser\n",
        "\n",
        "@tool\n",
        "def word_problems(messages: str) -> str:\n",
        "    \"\"\"\n",
        "    Solve a logical problem by generating a detailed Python solution.\n",
        "    \n",
        "    Args:\n",
        "        messages (str): The logical problem statement.\n",
        "        \n",
        "    Returns:\n",
        "        messages (str): The Python code that solves the problem.\n",
        "    \"\"\"\n",
        "    # Define the prompt template for solving logical problems\n",
        "    solve_logic_prompt = PromptTemplate(\n",
        "        template=\"\"\"\\\n",
        "You are an expert at solving logical and algorithmic problems. Given the following problem, provide a clear and detailed solution with an executable python script.\n",
        "\n",
        "Problem: {messages}\n",
        "\n",
        "Solution (executable python script):\n",
        "Ensure that your solution is precise and correctly addresses all aspects of the problem. Avoid adding unnecessary explanations.\n",
        "\"\"\",\n",
        "        input_variables=[\"messages\"],\n",
        "    )\n",
        "\n",
        "    # Initialize the LLM for solving logical problems\n",
        "    llm = ChatGroq(temperature=0.1, model_name=\"llama-3.1-70b-versatile\")\n",
        "    logic_solver = solve_logic_prompt | llm | StrOutputParser()\n",
        "    \n",
        "    # Generate the solution\n",
        "    ans = logic_solver.invoke({\"messages\": messages})\n",
        "    return {\"messages\": ans}"
      ]
    },
    {
      "cell_type": "markdown",
      "metadata": {},
      "source": [
        "Final tool, a complex tool:"
      ]
    },
    {
      "cell_type": "code",
      "execution_count": 4,
      "metadata": {},
      "outputs": [],
      "source": [
        "from langchain_core.tools import tool\n",
        "from langchain.prompts import PromptTemplate\n",
        "from langchain_groq import ChatGroq\n",
        "from langchain_core.output_parsers import StrOutputParser\n",
        "\n",
        "@tool\n",
        "def complex_tool(messages: str) -> str:\n",
        "    \"\"\"\n",
        "    Solve a complex math problem by generating a detailed Python solution.\n",
        "    \n",
        "    Args:\n",
        "        messages (str): The complex math problem statement.\n",
        "        \n",
        "    Returns:\n",
        "        messages (str): The Python code that solves the problem.\n",
        "    \"\"\"\n",
        "    # Define the prompt template for solving complex problems\n",
        "    solve_others_prompt = PromptTemplate(\n",
        "        template=\"\"\"\\\n",
        "You are an expert at solving complex and intricate math problems that do not fit into basic arithmetic or word problems. Given the following problem, provide a clear,\n",
        "detailed, and accurate python solution with an executable python script.\n",
        "\n",
        "Problem: {messages}\n",
        "\n",
        "Solution (executable python script):\n",
        "Please ensure that your explanation is thorough and your solution is correct. Avoid any preamble or extra sentences. Make sure to carefully address all aspects of the problem\n",
        "to provide a comprehensive python solution with script.\n",
        "\"\"\",\n",
        "        input_variables=[\"messages\"],\n",
        "    )\n",
        "\n",
        "    # Initialize the LLM for solving complex problems\n",
        "    llm = ChatGroq(temperature=0.1, model_name=\"llama-3.1-70b-versatile\")\n",
        "    others_solver = solve_others_prompt | llm | StrOutputParser()\n",
        "    \n",
        "    # Generate the solution\n",
        "    ans = others_solver.invoke({\"messages\": messages})\n",
        "    return {\"messages\": ans}"
      ]
    },
    {
      "cell_type": "markdown",
      "metadata": {
        "id": "cuND-gpSfazl"
      },
      "source": [
        "Now I am done creating my tools. I will create my assistant:"
      ]
    },
    {
      "cell_type": "markdown",
      "metadata": {},
      "source": [
        "##### **Assistant**"
      ]
    },
    {
      "cell_type": "code",
      "execution_count": 5,
      "metadata": {
        "colab": {
          "base_uri": "https://localhost:8080/"
        },
        "id": "Y8EZ7YpM_Qei",
        "outputId": "990c97ac-7038-4c72-d00b-a81e8fabf9e9"
      },
      "outputs": [],
      "source": [
        "from langchain_openai import ChatOpenAI\n",
        "\n",
        "llm = ChatOpenAI(model=\"gpt-4o\")\n",
        "tools = [word_problems, simple_math_tool, complex_tool]\n",
        "llm_with_tools = llm.bind_tools(tools)"
      ]
    },
    {
      "cell_type": "markdown",
      "metadata": {},
      "source": [
        "Now a little prompt engineering and then initialize the assistant:"
      ]
    },
    {
      "cell_type": "code",
      "execution_count": 6,
      "metadata": {},
      "outputs": [],
      "source": [
        "from langgraph.graph import MessagesState\n",
        "from langchain_core.messages import HumanMessage, SystemMessage\n",
        "\n",
        "# System message\n",
        "sys_msg = SystemMessage(content = \"\"\"\n",
        "\n",
        "You are a helpful math assistant with access to 3 tools: word_problems, simple_math_tool, complex_tool. First you route the query to \n",
        "one of the tools. \n",
        "###Examples:\n",
        "   1. **simple_math_tool**: Problems that involve straightforward calculations or logical reasoning using basic mathematical operations such as addition, subtraction, multiplication, and division. These problems may also include simple scenarios requiring basic inference from provided data.\n",
        "   \n",
        "   - Example: \"In parallelogram \\(ABCD\\), the diagonals are the bisectors of its angles, \\(AB = 34\\), \\(AC = 32\\). Find \\(BD\\).\"\n",
        "   - Example: \"Find a four-digit number that is a multiple of 24, the product of whose digits is 16. In your answer, provide any one such number.\"\n",
        "   - Example: \"Find the value of the expression \\\\(4.8 \\\\cdot 2.5\\\\).\"\n",
        "   - Example: \"Pavel Ivanovich bought an American car, the speedometer of which shows the speed in miles per hour. What is the speed of the car in kilometers per hour if the speedometer shows 46 miles per hour? Assume that 1 mile is equal to 1609 meters. Round the answer to the nearest whole number.\"\n",
        "   - Example: \"Masha and the Bear ate 51 cookies and a jar of jam, starting and finishing at the same time. At first, Masha was eating the jam, and the Bear was eating the cookies, but at some point, they switched. The Bear eats both four times faster than Masha. How many cookies did the Bear eat if they ate the jam equally?\"\n",
        "   - Example: \"Find the root of the equation: \\\\(\\\\left(\\\\dfrac{{1}}{{8}} \\\\right)^{{4 - x}} = 64\\\\).\"\n",
        "   - Example: \"Some 11th-grade students from the school went on a trip to Nizhny Novgorod in the fall. In the spring, some 11th-grade students will go to Kazan, and none of those who went to Nizhny Novgorod in the fall will be among them. Select the statements that will be true under the given conditions regardless of who among the 11th graders will go to Kazan.  \\begin{center} \\begin{tabularx}{\\textwidth}{p{0.1cm}X}  1) & There is not a single 11th grader who went on a trip to Nizhny Novgorod and will go to Kazan. \\\\  2) & Every 11th grader who did not go on a trip to Nizhny Novgorod will go to Kazan.  \\\\  3) & There will be an 11th grader who did not go on a trip to Nizhny Novgorod and will not go to Kazan. \\\\  4) & Among the 11th-grade students of this school who will not go to Kazan, there is at least one who went on a trip to Nizhny Novgorod.  \\\\  \\end{tabularx} \\end{center}  In the answer, write down the numbers of the selected statements without spaces, commas, or other additional symbols.\"\n",
        "   - Example: \"A construction contractor plans to buy 20 tons of facing bricks from one of three suppliers. Each brick weighs 5 kg. The price of the brick and the delivery terms for the entire purchase are shown in the table. What is the cost in rubles of the cheapest purchase option including delivery?\"\n",
        "   - Example: \"A chocolate bar costs 20 rubles. On Sundays, the supermarket has a special offer: if you pay for two chocolate bars, you get three (one as a gift). How many chocolate bars can you get for 150 rubles on Sunday?\"\n",
        "   - Example: \"Each of the four inequalities in the left column corresponds to one of the solutions in the right column. Establish the correspondence between the inequalities and their solutions.\n",
        "   \\begin{{center}}\n",
        "\\renewcommand{{\\arraystretch}}{{1.5}}\n",
        "\\begin{{tabularx}}{{\\textwidth}}{{>{{\\raggedright\\arraybackslash}}X>{{\\centering\\arraybackslash}}X}}\n",
        "\\multicolumn{{1}}{{c}}{{INEQUALITIES}} & \\multicolumn{{1}}{{c}}{{SOLUTIONS}} \\\\\n",
        "A) $x^{{2}} -9x+20\\ge 0$ & 1) $-10\\le x \\le 2$ \\\\\n",
        "B) $x^{{2}} -8x-20\\le 0$ & 2) $x\\le -5$ or $x \\ge -4$ \\\\\n",
        "C) $x^{{2}} +9x+20\\ge 0$ & 3) $-2\\le x \\le 10$ \\\\\n",
        "D) $x^{{2}} +8x-20\\le 0$ & 4) $x \\le 4$ or $x \\ge 5$ \\\\\n",
        "\\end{{tabularx}}\n",
        "\\end{{center}}\n",
        "\n",
        "Write the corresponding solution number under each letter in the provided table.\n",
        "\n",
        "\\begin{{center}}\n",
        "\\begin{{tabular}}{{|*{{4}}{{c|}}}} \\hline A & B & C & D \\\\ \\hline & & &  \\\\ \\hline\n",
        "\\end{{tabular}}\n",
        "\\end{{center}}\"\n",
        "\n",
        "   - Example: \"Match the functions with the characteristics of these functions on the interval \\\\([0;5]\\\\).\n",
        "\n",
        "\\begin{{center}}\n",
        "\\begin{{tabularx}}{{\\textwidth}}{{clcX}} \n",
        "\\multicolumn{{2}}{{c}}{{FUNCTIONS}} & \\multicolumn{{2}}{{c}}{{CHARACTERISTICS}} \\\\ \n",
        "A) & $y=2x-3$ & 1) & increasing function \\\\ \n",
        "B) & $y=x^2-x+2$ &  2) & decreasing function \\\\ \n",
        "C) & $y=4x-x^2$  & 3) & the function has a minimum point \\\\ \n",
        "D) & $y=5-3x$  &  4) & the function has a maximum point    \\\\ \n",
        "\\end{{tabularx}}\n",
        "\\end{{center}}\n",
        "\n",
        "In the table below, write the corresponding number under each letter.\n",
        "\n",
        "\\begin{{center}}\n",
        "\\begin{{tabular}}{{|*{{4}}{{c|}}}} \\hline \n",
        " A & B & C & D \\\\ \\hline \n",
        "& & & \\\\ \\hline\n",
        "\\end{{tabular}}\n",
        "\\end{{center}}\"\n",
        "2. **word_problems**: Problems presented in a narrative form, requiring the solver to extract and use mathematical concepts to find the solution, often involving real-world scenarios.\n",
        "   - Example: \"The plane's navigation system informs the passenger that the flight is at an altitude of 37,000 feet. Express the flight altitude in meters. Assume that 1 foot is equal to 30.5 cm.\"\n",
        "   - Example: \"At the school, there are two-person camping tents. What is the minimum number of tents needed for a trip involving 25 people?\"\n",
        "3. **Complex**: Problems that do not fit neatly into the previous two categories, often involving more complex concepts or requiring multiple steps and different types of reasoning.\n",
        "   - Example: \"Sixteen teams are participating in the World Championship, including the team from Canada. They need to be divided into four groups of four teams each by drawing lots. The box contains mixed cards with group numbers: 1, 1, 1, 1, 2, 2, 2, 2, 3, 3, 3, 3, 4, 4, 4, 4. The team captains draw one card each. What is the probability that the team from Canada will end up in the fourth group?\"\n",
        "   - Example: \"The volume of a rectangular parallelepiped is calculated using the formula \\\\(V=abc\\\\), where \\\\(a\\\\), \\\\(b\\\\), and \\\\(c\\\\) are the lengths of the three edges meeting at one vertex. Using this formula, find \\\\(a\\\\) if \\\\(V=70\\\\), \\\\(b=5\\\\), and \\\\(c=3.5\\\\).\"\n",
        "   - Example: \"The chef baked 40 cookies, of which he sprinkled 10 cookies with cinnamon and 20 cookies with sugar. Choose the statements that are true under the given conditions.\"\n",
        "   \n",
        "\n",
        "\n",
        "                        \n",
        "                        \n",
        "                        \n",
        "                        \n",
        "                        \n",
        "Next, you look at the output of the tool and print only the generated python code in a markdown format. \n",
        "\n",
        "                        \n",
        "If the user asks flirty, intimate, or sensitive questions related to topics like emotions or religion, respond ONLY with:\n",
        "\"I'm sorry, but let us keep the conversation strictly about math.\"\n",
        "\n",
        "\"\"\")\n",
        "\n",
        "\n",
        "# Node\n",
        "def assistant(state: MessagesState):\n",
        "   return {\"messages\": [llm_with_tools.invoke([sys_msg] + state[\"messages\"])]}"
      ]
    },
    {
      "cell_type": "markdown",
      "metadata": {
        "id": "0aUB_Ukafif6"
      },
      "source": [
        "Now to put it all together in a graph:"
      ]
    },
    {
      "cell_type": "markdown",
      "metadata": {},
      "source": [
        "##### **Graph**"
      ]
    },
    {
      "cell_type": "code",
      "execution_count": 7,
      "metadata": {
        "id": "9zJVEIek1Cy0"
      },
      "outputs": [],
      "source": [
        "from langgraph.graph import START, StateGraph\n",
        "from langgraph.prebuilt import tools_condition, ToolNode\n",
        "from IPython.display import Image, display\n",
        "\n",
        "# Graph\n",
        "builder = StateGraph(MessagesState)\n",
        "\n",
        "# Define nodes: these do the work\n",
        "builder.add_node(\"assistant\", assistant)\n",
        "builder.add_node(\"tools\", ToolNode(tools))\n",
        "\n",
        "\n",
        "# Define edges: these determine how the control flow moves\n",
        "builder.add_edge(START, \"assistant\")\n",
        "builder.add_conditional_edges(\n",
        "    \"assistant\",\n",
        "    # If the latest message (result) from assistant is a tool call -> tools_condition routes to tools\n",
        "    # If the latest message (result) from assistant is a not a tool call -> tools_condition routes to END\n",
        "    tools_condition,\n",
        ")\n",
        "builder.add_edge(\"tools\", \"assistant\")\n",
        "\n",
        "react_graph = builder.compile()"
      ]
    },
    {
      "cell_type": "markdown",
      "metadata": {},
      "source": [
        "Display graph:"
      ]
    },
    {
      "cell_type": "code",
      "execution_count": 8,
      "metadata": {
        "id": "PAIbmCbIz6DT"
      },
      "outputs": [
        {
          "data": {
            "image/jpeg": "[encoded data removed]",
            "text/plain": [
              "<IPython.core.display.Image object>"
            ]
          },
          "metadata": {},
          "output_type": "display_data"
        }
      ],
      "source": [
        "display(Image(react_graph.get_graph(xray=True).draw_mermaid_png()))"
      ]
    },
    {
      "cell_type": "markdown",
      "metadata": {},
      "source": [
        "To try it out:"
      ]
    },
    {
      "cell_type": "code",
      "execution_count": 9,
      "metadata": {},
      "outputs": [
        {
          "name": "stdout",
          "output_type": "stream",
          "text": [
            "================================\u001b[1m Human Message \u001b[0m=================================\n",
            "\n",
            "\"Establish a correspondence between the quantities and their possible values: match each element from the first column with the corresponding element from the second column.  \\vspace{\\medskip}  \\begin{center} \\hyphenpenalty=10000 \\begin{tabular}{p{8cm}p{5cm}} QUANTITIES & VALUES \\\\ A) mass of an adult whale & 1) 162 sq. m\\\\ B) volume of a railway car & 2) 100 t\\\\ C) area of a volleyball court & 3) 120 m$^{3}$\\\\ D) width of a football field & 4) 68 m \\\\ \\end{tabular}\\end{center}  \\vspace{\\medskip}  In the table, under each letter corresponding to a quantity, indicate the number of its possible value.  \\vspace{\\medskip}  \\begin{tabular}{|c|c|c|c|} \\hline A & B & C & D \\\\ \\hline  &  &  &  \\\\ \\hline \\end{tabular}\"\n",
            "==================================\u001b[1m Ai Message \u001b[0m==================================\n",
            "Tool Calls:\n",
            "  simple_math_tool (call_Yj4cNx19HSd11anMDcE8Vid3)\n",
            " Call ID: call_Yj4cNx19HSd11anMDcE8Vid3\n",
            "  Args:\n",
            "    messages: Establish a correspondence between the quantities and their possible values: match each element from the first column with the corresponding element from the second column. \n",
            "QUANTITIES: \n",
            "A) mass of an adult whale \n",
            "B) volume of a railway car \n",
            "C) area of a volleyball court \n",
            "D) width of a football field \n",
            "VALUES: \n",
            "1) 162 sq. m \n",
            "2) 100 t \n",
            "3) 120 m³ \n",
            "4) 68 m\n",
            "=================================\u001b[1m Tool Message \u001b[0m=================================\n",
            "Name: simple_math_tool\n",
            "\n",
            "{\"messages\": \"```python\\n# Define the quantities and their possible values\\nquantities = [\\\"A) mass of an adult whale\\\", \\\"B) volume of a railway car\\\", \\\"C) area of a volleyball court\\\", \\\"D) width of a football field\\\"]\\nvalues = [\\\"1) 162 sq. m\\\", \\\"2) 100 t\\\", \\\"3) 120 m³\\\", \\\"4) 68 m\\\"]\\n\\n# Establish the correspondence\\ncorrespondence = {\\n    \\\"A\\\": \\\"2) 100 t\\\",\\n    \\\"B\\\": \\\"3) 120 m³\\\",\\n    \\\"C\\\": \\\"1) 162 sq. m\\\",\\n    \\\"D\\\": \\\"4) 68 m\\\"\\n}\\n\\n# Print the correspondence\\nfor quantity in quantities:\\n    key = quantity.split(')')[0]\\n    print(f\\\"{quantity} -> {correspondence[key]}\\\")\\n```\\n\\nExecuting this script will output the correct correspondence between the quantities and their possible values.\"}\n",
            "==================================\u001b[1m Ai Message \u001b[0m==================================\n",
            "\n",
            "```python\n",
            "# Define the quantities and their possible values\n",
            "quantities = [\"A) mass of an adult whale\", \"B) volume of a railway car\", \"C) area of a volleyball court\", \"D) width of a football field\"]\n",
            "values = [\"1) 162 sq. m\", \"2) 100 t\", \"3) 120 m³\", \"4) 68 m\"]\n",
            "\n",
            "# Establish the correspondence\n",
            "correspondence = {\n",
            "    \"A\": \"2) 100 t\",\n",
            "    \"B\": \"3) 120 m³\",\n",
            "    \"C\": \"1) 162 sq. m\",\n",
            "    \"D\": \"4) 68 m\"\n",
            "}\n",
            "\n",
            "# Print the correspondence\n",
            "for quantity in quantities:\n",
            "    key = quantity.split(')')[0]\n",
            "    print(f\"{quantity} -> {correspondence[key]}\")\n",
            "```\n"
          ]
        }
      ],
      "source": [
        "# Specify a thread. (Not necessary)\n",
        "config = {\"configurable\": {\"thread_id\": \"0\"}}\n",
        "\n",
        "# Specify an input\n",
        "messages = [HumanMessage(content=input(\"Enter your query here: \"))]\n",
        "\n",
        "# Run\n",
        "messages = react_graph.invoke({\"messages\": messages},config)\n",
        "for m in messages['messages']:\n",
        "    m.pretty_print()"
      ]
    },
    {
      "cell_type": "markdown",
      "metadata": {},
      "source": [
        "Instead of running the generated script in a cell directly, I will use the following couple of helper functions to execute the generated scripts:"
      ]
    },
    {
      "cell_type": "code",
      "execution_count": 10,
      "metadata": {},
      "outputs": [],
      "source": [
        "import io\n",
        "import contextlib"
      ]
    },
    {
      "cell_type": "markdown",
      "metadata": {},
      "source": [
        "* ```extract_code()```"
      ]
    },
    {
      "cell_type": "code",
      "execution_count": 11,
      "metadata": {},
      "outputs": [],
      "source": [
        "def extract_code(output):\n",
        "    # Find the start and end positions of the code block\n",
        "    start = output.find(\"```python\") + len(\"```python\")\n",
        "    end = output.find(\"```\", start)\n",
        "    \n",
        "    # Extract the code between the found positions\n",
        "    code_block = output[start:end].strip()\n",
        "    \n",
        "    return code_block"
      ]
    },
    {
      "cell_type": "code",
      "execution_count": 12,
      "metadata": {},
      "outputs": [],
      "source": [
        "code = extract_code(messages[\"messages\"][-1].content)\n",
        "code"
      ]
    },
    {
      "cell_type": "markdown",
      "metadata": {},
      "source": [
        "* ```execute_Python_code()```"
      ]
    },
    {
      "cell_type": "code",
      "execution_count": 13,
      "metadata": {},
      "outputs": [],
      "source": [
        "def execute_Python_code(code):\n",
        "      # A string stream to capture the outputs of exec\n",
        "      output = io.StringIO()\n",
        "      try:\n",
        "          # Redirect stdout to the StringIO object\n",
        "          with contextlib.redirect_stdout(output):\n",
        "              # Allow imports\n",
        "              exec(code, globals())\n",
        "      except Exception as e:\n",
        "          # If an error occurs, capture it as part of the output\n",
        "          print(f\"Error: {e}\", file=output)\n",
        "      return output.getvalue()"
      ]
    },
    {
      "cell_type": "code",
      "execution_count": 14,
      "metadata": {},
      "outputs": [
        {
          "name": "stdout",
          "output_type": "stream",
          "text": [
            "A) mass of an adult whale -> 2) 100 t\n",
            "B) volume of a railway car -> 3) 120 m³\n",
            "C) area of a volleyball court -> 1) 162 sq. m\n",
            "D) width of a football field -> 4) 68 m\n",
            "\n"
          ]
        }
      ],
      "source": [
        "print(execute_Python_code(code))"
      ]
    },
    {
      "cell_type": "markdown",
      "metadata": {},
      "source": [
        "### **Testing**"
      ]
    },
    {
      "cell_type": "markdown",
      "metadata": {},
      "source": [
        "Alright, time to run the entire test dataset."
      ]
    },
    {
      "cell_type": "markdown",
      "metadata": {},
      "source": [
        "First, download the test dataset [here](https://www.kaggle.com/competitions/llm-zoomcamp-2024-competition/data?select=test.csv).\n",
        "\n",
        "Then, load the dataset:"
      ]
    },
    {
      "cell_type": "code",
      "execution_count": 15,
      "metadata": {},
      "outputs": [],
      "source": [
        "import pandas as pd \n",
        "\n",
        "# Load the dataset\n",
        "test_df = pd.read_csv('test.csv')"
      ]
    },
    {
      "cell_type": "markdown",
      "metadata": {},
      "source": [
        "To present the final response from the app in the expected format (based on competition instructions and observation after manually inspecting the train dataset):"
      ]
    },
    {
      "cell_type": "code",
      "execution_count": 17,
      "metadata": {},
      "outputs": [],
      "source": [
        "from langchain.prompts import PromptTemplate\n",
        "from langchain_openai import ChatOpenAI\n",
        "from langchain_core.output_parsers import StrOutputParser\n",
        "\n",
        "# Define the prompt template \n",
        "prompt = PromptTemplate(\n",
        "    template=\"\"\"\n",
        "Analyze the provided context and determine the answer in numerical format based on the following guidelines:\n",
        "\n",
        "1. **Format of Response**: \n",
        "   - For matching problems, respond with the correct numerical sequence as instructed in the context.\n",
        "   - For mathematical expressions, provide the numerical answer rounded to one decimal place, if required.\n",
        "   - For probabilities or percentages, format the response to two decimal places.\n",
        "\n",
        "2. Provide only the numerical answer according to the guidelines, without spaces between digits. Do not perform any calculations or solve the problem; \n",
        "   focus solely on interpreting the context and formatting the response as required.\n",
        "\n",
        "3. **Examples**:\n",
        "   Question: \"Match the quantities and values: \\\\begin{{tabular}}{{p{{8cm}}p{{5cm}}}} QUANTITIES & VALUES \\\\\\\\ A) mass of an adult whale & 1) 162 sq. m\\\\\\\\ B) volume of a railway car & 2) 100 t\\\\\\\\ C) area of a volleyball court & 3) 120 m$^{{3}}$\\\\\\\\ D) width of a football field & 4) 68 m \\\\\\\\ \\\\end{{tabular}}  Indicate the number under each letter.\"\n",
        "   Context: \"\\\\begin{{tabular}}{{|c|c|c|c|}} \\\\hline A & B & C & D \\\\\\\\ \\\\hline 2 & 3 & 1 & 4 \\\\\\\\ \\\\hline \\\\end{{tabular}}\"\n",
        "   Expected output: 2314\n",
        "\n",
        "**Question**: {question}\n",
        "**Provided Context**: {context}\n",
        "\"\"\",\n",
        "    input_variables=[\"question\", \"context\"]\n",
        ")\n",
        "\n",
        "# Initialize the LLM\n",
        "llm = ChatOpenAI(temperature=0.1, model_name=\"gpt-4o\")\n",
        "\n",
        "# Chain the prompt with the LLM and output parser\n",
        "response_chain = prompt | llm | StrOutputParser()"
      ]
    },
    {
      "cell_type": "markdown",
      "metadata": {},
      "source": [
        "I will provide a progress bar for the automation using ```tqdm```."
      ]
    },
    {
      "cell_type": "code",
      "execution_count": 18,
      "metadata": {},
      "outputs": [],
      "source": [
        "! pip install -qU tqdm"
      ]
    },
    {
      "cell_type": "markdown",
      "metadata": {},
      "source": [
        "The automation:\n",
        "\n",
        "I will use 6 threads to make concurrent requests to the API."
      ]
    },
    {
      "cell_type": "code",
      "execution_count": 21,
      "metadata": {},
      "outputs": [
        {
          "name": "stderr",
          "output_type": "stream",
          "text": [
            "Processing: 100%|██████████| 100/100 [02:15<00:00,  1.35s/it]"
          ]
        },
        {
          "name": "stdout",
          "output_type": "stream",
          "text": [
            "Results have been saved to submission.csv\n"
          ]
        },
        {
          "name": "stderr",
          "output_type": "stream",
          "text": [
            "\n"
          ]
        }
      ],
      "source": [
        "from concurrent.futures import ThreadPoolExecutor, as_completed\n",
        "from tqdm import tqdm\n",
        "import pandas as pd\n",
        "\n",
        "# Function to process each row\n",
        "def process_row(row):\n",
        "    problem_text = row['problem_text']\n",
        "    messages = [HumanMessage(content=problem_text)]\n",
        "    \n",
        "    # Call the react_graph to generate an AI response\n",
        "    response_messages = react_graph.invoke({\"messages\": messages})\n",
        "    \n",
        "    # Extract the question and the Python code from the AI response\n",
        "    question = response_messages['messages'][0].content\n",
        "    ai_response = response_messages['messages'][-1].content\n",
        "    code = extract_code(ai_response)\n",
        "    \n",
        "    # Execute the Python code to get the raw answer\n",
        "    raw_answer = execute_Python_code(code)\n",
        "    \n",
        "    # Generate the final validated answer\n",
        "    final_answer = generate_final_answer(question, raw_answer)\n",
        "    \n",
        "    # Return the result as a dictionary\n",
        "    return {'problem_id': row['problem_id'], 'answer': final_answer}\n",
        "\n",
        "# Function to generate final validated answer\n",
        "def generate_final_answer(question, raw_answer):\n",
        "    response = response_chain.invoke({\"question\": question, \"context\": raw_answer})\n",
        "    return response\n",
        "\n",
        "# Create or load the results CSV file\n",
        "results_file = 'submission.csv'\n",
        "try:\n",
        "    results_df = pd.read_csv(results_file)\n",
        "except FileNotFoundError:\n",
        "    results_df = pd.DataFrame(columns=['problem_id', 'answer'])\n",
        "\n",
        "# Initialize an empty list to store the future results\n",
        "futures = []\n",
        "\n",
        "# Run the processing with multiple workers\n",
        "with ThreadPoolExecutor(max_workers=6) as executor:\n",
        "    # Submit all tasks and track progress\n",
        "    futures = {executor.submit(process_row, row): row for _, row in test_df.iterrows()}\n",
        "    \n",
        "    for future in tqdm(as_completed(futures), total=len(test_df), desc=\"Processing\"):\n",
        "        # Get the result from each future\n",
        "        result = future.result()\n",
        "        \n",
        "        # Append the result to the DataFrame\n",
        "        df = pd.DataFrame({'problem_id': [result['problem_id']], 'answer': [result['answer']]})\n",
        "        results_df = pd.concat([results_df, df], ignore_index=True)\n",
        "\n",
        "# Save the results to the CSV file\n",
        "results_df.to_csv(results_file, index=False)\n",
        "\n",
        "print(f\"Results have been saved to {results_file}\")"
      ]
    },
    {
      "attachments": {
        "image.png": {
          "image/png": "[encoded data removed]"
        }
      },
      "cell_type": "markdown",
      "metadata": {},
      "source": [
        "![image.png](attachment:image.png)"
      ]
    },
    {
      "cell_type": "markdown",
      "metadata": {},
      "source": [
        "# **Conclusion**\n",
        "\n",
        "\n",
        "Important Note:\n",
        "* If you encounter an \"Internal Error\" message, wait for a minute and try re-running the query.\n",
        "\n",
        "I'm open to any suggestions on how to improve this process in the future."
      ]
    },
    {
      "cell_type": "markdown",
      "metadata": {},
      "source": [
        "Remarks:\n",
        "\n",
        "\n",
        "What a journey it has been to reach a score of **96.25%**! While the goal was to hit 100%, I might need to explore a paid mathematics API like [Wolfram Alpha](https://www.wolfram.com/products/) for that final push. Fortunately, LangChain offers integration with Wolfram Alpha. However, subscribing to their service would cost around 10 USD per month, and I've already invested a significant amount of money in this project. Although Wolfram Alpha has a free tier, it only achieved around 75% accuracy in my tests. \n",
        "\n",
        "Despite not reaching 100%, I'm grateful for the experience and here are my key findings:\n",
        "\n",
        "* **Cost**:\n",
        "The state-of-the-art models that performed best for this dataset are OpenAI's **GPT-4o**, Meta's **llama-3.1-70b**, and Anthropic's **claude-3-5-sonnet**, in that order. Each of these models can individually achieve around a 91% score on the [Leaderboard](https://www.kaggle.com/competitions/llm-zoomcamp-2024-competition/leaderboard). To maximize performance, I implemented an agent using LangGraph that leveraged more than one of these models. However, running agentic systems can be expensive. I ultimately decided to exclude Sonnet because it didn't answer any questions correctly that the other two models couldn't handle. The remaining two models provided complementary strengths, and running the entire test dataset once costs about **3 USD**.\n",
        "\n",
        "* **Inference**:\n",
        "There's a rate limit on how many queries you can send to the Groq API per minute, which can slow down the inference process. However, using Groq means I don't have to manage a large-scale LLM infrastructure myself. If you encounter an internal error, it's not due to something being broken—it's simply a matter of throttling. Waiting for about 60 seconds before retrying usually resolves the issue.\n",
        "\n",
        "* **Performance**:\n",
        "Achieving 96.25% is impressive. There's a lot of optimism around LLMs, particularly regarding their reasoning, math, and computational abilities, and this result supports that optimism. What impressed me most was the leap in reasoning capabilities from GPT-3.5 Turbo to the current models. This improvement was reflected in the leaderboard scores for this competition and was more exciting than the incremental progress from 90% to 96.25% using agents. While agents show a lot of promise, they are still somewhat unreliable. I appreciate LangChain's efforts in providing the community access to **LangGraph**; a low-level framework that assists developers in building custom stateful applications, and this is why I used their framework throughout this challenge. On the flip side, I was somewhat disappointed with the performance of GPT-4o-mini. In terms of reasoning, there's a significant gap between GPT-4o-mini and the original GPT-4o."
      ]
    }
  ],
  "metadata": {
    "colab": {
      "provenance": []
    },
    "kernelspec": {
      "display_name": "app",
      "language": "python",
      "name": "python3"
    },
    "language_info": {
      "codemirror_mode": {
        "name": "ipython",
        "version": 3
      },
      "file_extension": ".py",
      "mimetype": "text/x-python",
      "name": "python",
      "nbconvert_exporter": "python",
      "pygments_lexer": "ipython3",
      "version": "3.11.9"
    }
  },
  "nbformat": 4,
  "nbformat_minor": 0
}
