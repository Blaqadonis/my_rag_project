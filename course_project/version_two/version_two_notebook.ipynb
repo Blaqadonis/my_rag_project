{
 "cells": [
  {
   "cell_type": "markdown",
   "metadata": {},
   "source": [
    "# **Low-level Ochestration**\n",
    "\n",
    "**Author:  [🅱🅻🅰🆀 ](https://www.linkedin.com/in/chinonsoodiaka/)**\n",
    "\n",
    "In this directory, I will focus on enhancing the capabilities of the ```PDFChatbot``` from [**version one**](https://github.com/Blaqadonis/my_rag_project/tree/main/course_project) by redesigning the application from the ground up. This will involve leveraging ```LangGraph``` to implement a more robust architecture and improve overall functionality."
   ]
  },
  {
   "cell_type": "markdown",
   "metadata": {
    "jp-MarkdownHeadingCollapsed": true
   },
   "source": [
    "### **Before you begin**."
   ]
  },
  {
   "cell_type": "markdown",
   "metadata": {},
   "source": [
    "Load environment variables. You will be needing:\n",
    "\n",
    "\n",
    "```\n",
    "\n",
    "GROQ_API_KEY = '...'\n",
    "TAVILY_API_KEY = '...'\n",
    "\n",
    "```\n",
    "\n",
    "Therefore, do not forget to create a ```.env``` file.\n"
   ]
  },
  {
   "cell_type": "code",
   "execution_count": 1,
   "metadata": {},
   "outputs": [
    {
     "data": {
      "text/plain": [
       "True"
      ]
     },
     "execution_count": 1,
     "metadata": {},
     "output_type": "execute_result"
    }
   ],
   "source": [
    "from dotenv import load_dotenv\n",
    "load_dotenv()"
   ]
  },
  {
   "attachments": {},
   "cell_type": "markdown",
   "metadata": {},
   "source": [
    "OR"
   ]
  },
  {
   "cell_type": "code",
   "execution_count": 1,
   "metadata": {
    "execution": {
     "iopub.execute_input": "2024-10-11T09:25:02.923936Z",
     "iopub.status.busy": "2024-10-11T09:25:02.923683Z",
     "iopub.status.idle": "2024-10-11T09:25:16.063477Z",
     "shell.execute_reply": "2024-10-11T09:25:16.062952Z",
     "shell.execute_reply.started": "2024-10-11T09:25:02.923914Z"
    }
   },
   "outputs": [
    {
     "name": "stdin",
     "output_type": "stream",
     "text": [
      "Enter your GROQ API Key:  ········\n",
      "Enter your TAVILY API Key:  ········\n"
     ]
    }
   ],
   "source": [
    "import os\n",
    "import getpass\n",
    "\n",
    "# Set the GROQ API Key using secure input\n",
    "os.environ['GROQ_API_KEY'] = getpass.getpass(\"Enter your GROQ API Key: \")\n",
    "\n",
    "# Set the TAVILY API Key using secure input\n",
    "os.environ['TAVILY_API_KEY'] = getpass.getpass(\"Enter your TAVILY API Key: \")"
   ]
  },
  {
   "cell_type": "markdown",
   "metadata": {},
   "source": [
    "Langsmith for tracing."
   ]
  },
  {
   "cell_type": "code",
   "execution_count": 2,
   "metadata": {
    "execution": {
     "iopub.execute_input": "2024-10-11T09:25:44.358144Z",
     "iopub.status.busy": "2024-10-11T09:25:44.357817Z",
     "iopub.status.idle": "2024-10-11T09:25:55.519201Z",
     "shell.execute_reply": "2024-10-11T09:25:55.518678Z",
     "shell.execute_reply.started": "2024-10-11T09:25:44.358123Z"
    }
   },
   "outputs": [
    {
     "name": "stdout",
     "output_type": "stream",
     "text": [
      "----------------------------------------\n"
     ]
    },
    {
     "name": "stdin",
     "output_type": "stream",
     "text": [
      "Enter your LANGCHAIN API Key:  ········\n"
     ]
    }
   ],
   "source": [
    "import os\n",
    "from uuid import uuid4\n",
    "\n",
    "\n",
    "unique_id = uuid4().hex[0:8]\n",
    "\n",
    "os.environ[\"LANGCHAIN_TRACING_V2\"] = \"true\"\n",
    "print(\"-\"*40)\n",
    "os.environ[\"LANGCHAIN_PROJECT\"] = f\"PDFChatbot LangGraph - {unique_id}\"\n",
    "os.environ['LANGCHAIN_API_KEY'] = getpass.getpass(\"Enter your LANGCHAIN API Key: \")"
   ]
  },
  {
   "cell_type": "markdown",
   "metadata": {},
   "source": [
    "### **Implementation**"
   ]
  },
  {
   "cell_type": "markdown",
   "metadata": {
    "jp-MarkdownHeadingCollapsed": true
   },
   "source": [
    "#### **Data Loading & Pre-processing**."
   ]
  },
  {
   "cell_type": "markdown",
   "metadata": {},
   "source": [
    "Data ingestion:"
   ]
  },
  {
   "cell_type": "code",
   "execution_count": 3,
   "metadata": {
    "execution": {
     "iopub.execute_input": "2024-10-11T09:26:01.871871Z",
     "iopub.status.busy": "2024-10-11T09:26:01.871549Z",
     "iopub.status.idle": "2024-10-11T09:26:02.035529Z",
     "shell.execute_reply": "2024-10-11T09:26:02.034666Z",
     "shell.execute_reply.started": "2024-10-11T09:26:01.871849Z"
    }
   },
   "outputs": [
    {
     "name": "stdout",
     "output_type": "stream",
     "text": [
      "File human-nutrition-text.pdf exists.\n"
     ]
    }
   ],
   "source": [
    "# Download PDF file\n",
    "import os\n",
    "import requests\n",
    "\n",
    "# Get PDF document\n",
    "pdf_path = \"human-nutrition-text.pdf\"\n",
    "\n",
    "# Download PDF if it doesn't already exist\n",
    "if not os.path.exists(pdf_path):\n",
    "  print(\"File doesn't exist, downloading...\")\n",
    "\n",
    "  # The URL of the PDF you want to download\n",
    "  url = \"https://pressbooks.oer.hawaii.edu/humannutrition2/open/download?type=pdf\"\n",
    "\n",
    "  # The local filename to save the downloaded file\n",
    "  filename = pdf_path\n",
    "\n",
    "  # Send a GET request to the URL\n",
    "  response = requests.get(url)\n",
    "\n",
    "  # Check if the request was successful\n",
    "  if response.status_code == 200:\n",
    "      # Open a file in binary write mode and save the content to it\n",
    "      with open(filename, \"wb\") as file:\n",
    "          file.write(response.content)\n",
    "      print(f\"The file has been downloaded and saved as {filename}\")\n",
    "  else:\n",
    "      print(f\"Failed to download the file. Status code: {response.status_code}\")\n",
    "else:\n",
    "  print(f\"File {pdf_path} exists.\")"
   ]
  },
  {
   "cell_type": "markdown",
   "metadata": {},
   "source": [
    "Creating/Loading the index, and generating a retriever in the process."
   ]
  },
  {
   "cell_type": "code",
   "execution_count": 4,
   "metadata": {
    "execution": {
     "iopub.execute_input": "2024-10-11T09:28:53.331816Z",
     "iopub.status.busy": "2024-10-11T09:28:53.331501Z",
     "iopub.status.idle": "2024-10-11T09:28:53.334984Z",
     "shell.execute_reply": "2024-10-11T09:28:53.334297Z",
     "shell.execute_reply.started": "2024-10-11T09:28:53.331791Z"
    }
   },
   "outputs": [],
   "source": [
    "#! pip install -qU ragatouille"
   ]
  },
  {
   "cell_type": "code",
   "execution_count": 5,
   "metadata": {
    "execution": {
     "iopub.execute_input": "2024-10-11T09:29:14.092074Z",
     "iopub.status.busy": "2024-10-11T09:29:14.091764Z",
     "iopub.status.idle": "2024-10-11T09:29:43.232015Z",
     "shell.execute_reply": "2024-10-11T09:29:43.231271Z",
     "shell.execute_reply.started": "2024-10-11T09:29:14.092050Z"
    }
   },
   "outputs": [
    {
     "name": "stdout",
     "output_type": "stream",
     "text": [
      "[Oct 11, 09:29:21] Loading segmented_maxsim_cpp extension (set COLBERT_LOAD_TORCH_EXTENSION_VERBOSE=True for more info)...\n"
     ]
    },
    {
     "name": "stderr",
     "output_type": "stream",
     "text": [
      "/opt/saturncloud/envs/saturn/lib/python3.11/site-packages/colbert/utils/amp.py:12: FutureWarning: `torch.cuda.amp.GradScaler(args...)` is deprecated. Please use `torch.amp.GradScaler('cuda', args...)` instead.\n",
      "  self.scaler = torch.cuda.amp.GradScaler()\n",
      "/opt/saturncloud/envs/saturn/lib/python3.11/site-packages/torch/amp/grad_scaler.py:132: UserWarning: torch.cuda.amp.GradScaler is enabled, but CUDA is not available.  Disabling.\n",
      "  warnings.warn(\n"
     ]
    }
   ],
   "source": [
    "from ragatouille import RAGPretrainedModel\n",
    "\n",
    "RAG = RAGPretrainedModel.from_pretrained(\"colbert-ir/colbertv2.0\")"
   ]
  },
  {
   "cell_type": "code",
   "execution_count": 15,
   "metadata": {
    "execution": {
     "iopub.execute_input": "2024-10-11T09:41:49.922435Z",
     "iopub.status.busy": "2024-10-11T09:41:49.922099Z",
     "iopub.status.idle": "2024-10-11T09:41:58.169318Z",
     "shell.execute_reply": "2024-10-11T09:41:58.168741Z",
     "shell.execute_reply.started": "2024-10-11T09:41:49.922413Z"
    }
   },
   "outputs": [
    {
     "name": "stdin",
     "output_type": "stream",
     "text": [
      "Enter the path to the PDF file:  human-nutrition-text.pdf\n"
     ]
    },
    {
     "name": "stderr",
     "output_type": "stream",
     "text": [
      "/opt/saturncloud/envs/saturn/lib/python3.11/site-packages/langchain_community/document_loaders/parsers/pdf.py:299: UserWarning: Warning: Empty content on page 1 of document human-nutrition-text.pdf\n",
      "  warnings.warn(\n",
      "/opt/saturncloud/envs/saturn/lib/python3.11/site-packages/langchain_community/document_loaders/parsers/pdf.py:299: UserWarning: Warning: Empty content on page 43 of document human-nutrition-text.pdf\n",
      "  warnings.warn(\n",
      "/opt/saturncloud/envs/saturn/lib/python3.11/site-packages/langchain_community/document_loaders/parsers/pdf.py:299: UserWarning: Warning: Empty content on page 95 of document human-nutrition-text.pdf\n",
      "  warnings.warn(\n",
      "/opt/saturncloud/envs/saturn/lib/python3.11/site-packages/langchain_community/document_loaders/parsers/pdf.py:299: UserWarning: Warning: Empty content on page 185 of document human-nutrition-text.pdf\n",
      "  warnings.warn(\n",
      "/opt/saturncloud/envs/saturn/lib/python3.11/site-packages/langchain_community/document_loaders/parsers/pdf.py:299: UserWarning: Warning: Empty content on page 269 of document human-nutrition-text.pdf\n",
      "  warnings.warn(\n",
      "/opt/saturncloud/envs/saturn/lib/python3.11/site-packages/langchain_community/document_loaders/parsers/pdf.py:299: UserWarning: Warning: Empty content on page 331 of document human-nutrition-text.pdf\n",
      "  warnings.warn(\n",
      "/opt/saturncloud/envs/saturn/lib/python3.11/site-packages/langchain_community/document_loaders/parsers/pdf.py:299: UserWarning: Warning: Empty content on page 397 of document human-nutrition-text.pdf\n",
      "  warnings.warn(\n",
      "/opt/saturncloud/envs/saturn/lib/python3.11/site-packages/langchain_community/document_loaders/parsers/pdf.py:299: UserWarning: Warning: Empty content on page 399 of document human-nutrition-text.pdf\n",
      "  warnings.warn(\n",
      "/opt/saturncloud/envs/saturn/lib/python3.11/site-packages/langchain_community/document_loaders/parsers/pdf.py:299: UserWarning: Warning: Empty content on page 469 of document human-nutrition-text.pdf\n",
      "  warnings.warn(\n",
      "/opt/saturncloud/envs/saturn/lib/python3.11/site-packages/langchain_community/document_loaders/parsers/pdf.py:299: UserWarning: Warning: Empty content on page 471 of document human-nutrition-text.pdf\n",
      "  warnings.warn(\n",
      "/opt/saturncloud/envs/saturn/lib/python3.11/site-packages/langchain_community/document_loaders/parsers/pdf.py:299: UserWarning: Warning: Empty content on page 493 of document human-nutrition-text.pdf\n",
      "  warnings.warn(\n",
      "/opt/saturncloud/envs/saturn/lib/python3.11/site-packages/langchain_community/document_loaders/parsers/pdf.py:299: UserWarning: Warning: Empty content on page 553 of document human-nutrition-text.pdf\n",
      "  warnings.warn(\n",
      "/opt/saturncloud/envs/saturn/lib/python3.11/site-packages/langchain_community/document_loaders/parsers/pdf.py:299: UserWarning: Warning: Empty content on page 555 of document human-nutrition-text.pdf\n",
      "  warnings.warn(\n",
      "/opt/saturncloud/envs/saturn/lib/python3.11/site-packages/langchain_community/document_loaders/parsers/pdf.py:299: UserWarning: Warning: Empty content on page 647 of document human-nutrition-text.pdf\n",
      "  warnings.warn(\n",
      "/opt/saturncloud/envs/saturn/lib/python3.11/site-packages/langchain_community/document_loaders/parsers/pdf.py:299: UserWarning: Warning: Empty content on page 649 of document human-nutrition-text.pdf\n",
      "  warnings.warn(\n",
      "/opt/saturncloud/envs/saturn/lib/python3.11/site-packages/langchain_community/document_loaders/parsers/pdf.py:299: UserWarning: Warning: Empty content on page 691 of document human-nutrition-text.pdf\n",
      "  warnings.warn(\n",
      "/opt/saturncloud/envs/saturn/lib/python3.11/site-packages/langchain_community/document_loaders/parsers/pdf.py:299: UserWarning: Warning: Empty content on page 747 of document human-nutrition-text.pdf\n",
      "  warnings.warn(\n",
      "/opt/saturncloud/envs/saturn/lib/python3.11/site-packages/langchain_community/document_loaders/parsers/pdf.py:299: UserWarning: Warning: Empty content on page 817 of document human-nutrition-text.pdf\n",
      "  warnings.warn(\n",
      "/opt/saturncloud/envs/saturn/lib/python3.11/site-packages/langchain_community/document_loaders/parsers/pdf.py:299: UserWarning: Warning: Empty content on page 819 of document human-nutrition-text.pdf\n",
      "  warnings.warn(\n",
      "/opt/saturncloud/envs/saturn/lib/python3.11/site-packages/langchain_community/document_loaders/parsers/pdf.py:299: UserWarning: Warning: Empty content on page 905 of document human-nutrition-text.pdf\n",
      "  warnings.warn(\n",
      "/opt/saturncloud/envs/saturn/lib/python3.11/site-packages/langchain_community/document_loaders/parsers/pdf.py:299: UserWarning: Warning: Empty content on page 907 of document human-nutrition-text.pdf\n",
      "  warnings.warn(\n",
      "/opt/saturncloud/envs/saturn/lib/python3.11/site-packages/langchain_community/document_loaders/parsers/pdf.py:299: UserWarning: Warning: Empty content on page 943 of document human-nutrition-text.pdf\n",
      "  warnings.warn(\n",
      "/opt/saturncloud/envs/saturn/lib/python3.11/site-packages/langchain_community/document_loaders/parsers/pdf.py:299: UserWarning: Warning: Empty content on page 973 of document human-nutrition-text.pdf\n",
      "  warnings.warn(\n",
      "/opt/saturncloud/envs/saturn/lib/python3.11/site-packages/langchain_community/document_loaders/parsers/pdf.py:299: UserWarning: Warning: Empty content on page 1025 of document human-nutrition-text.pdf\n",
      "  warnings.warn(\n",
      "/opt/saturncloud/envs/saturn/lib/python3.11/site-packages/langchain_community/document_loaders/parsers/pdf.py:299: UserWarning: Warning: Empty content on page 1027 of document human-nutrition-text.pdf\n",
      "  warnings.warn(\n",
      "/opt/saturncloud/envs/saturn/lib/python3.11/site-packages/langchain_community/document_loaders/parsers/pdf.py:299: UserWarning: Warning: Empty content on page 1081 of document human-nutrition-text.pdf\n",
      "  warnings.warn(\n",
      "/opt/saturncloud/envs/saturn/lib/python3.11/site-packages/langchain_community/document_loaders/parsers/pdf.py:299: UserWarning: Warning: Empty content on page 1083 of document human-nutrition-text.pdf\n",
      "  warnings.warn(\n",
      "/opt/saturncloud/envs/saturn/lib/python3.11/site-packages/langchain_community/document_loaders/parsers/pdf.py:299: UserWarning: Warning: Empty content on page 1189 of document human-nutrition-text.pdf\n",
      "  warnings.warn(\n",
      "/opt/saturncloud/envs/saturn/lib/python3.11/site-packages/langchain_community/document_loaders/parsers/pdf.py:299: UserWarning: Warning: Empty content on page 1191 of document human-nutrition-text.pdf\n",
      "  warnings.warn(\n"
     ]
    }
   ],
   "source": [
    "from langchain_community.document_loaders import PyMuPDFLoader\n",
    "\n",
    "# Load the document\n",
    "loader = PyMuPDFLoader(input(\"Enter the path to the PDF file: \"))\n",
    "text_data = loader.load()"
   ]
  },
  {
   "cell_type": "code",
   "execution_count": 16,
   "metadata": {
    "execution": {
     "iopub.execute_input": "2024-10-11T09:42:24.826346Z",
     "iopub.status.busy": "2024-10-11T09:42:24.825984Z",
     "iopub.status.idle": "2024-10-11T09:42:24.831227Z",
     "shell.execute_reply": "2024-10-11T09:42:24.830500Z",
     "shell.execute_reply.started": "2024-10-11T09:42:24.826322Z"
    }
   },
   "outputs": [],
   "source": [
    "def join_text_data(text_data):\n",
    "    \"\"\"\n",
    "    Joins all the page content from a list of text data into one giant string.\n",
    "\n",
    "    Args:\n",
    "        text_data (list): A list of objects where each has a 'page_content' attribute.\n",
    "\n",
    "    Returns:\n",
    "        str: A single string containing the combined text content.\n",
    "    \"\"\"\n",
    "    # Use list comprehension to extract 'page_content' from each element and join them\n",
    "    combined_text = \"\\n\".join([data.page_content for data in text_data])\n",
    "    \n",
    "    return combined_text\n",
    "doc = join_text_data(text_data)"
   ]
  },
  {
   "cell_type": "code",
   "execution_count": 18,
   "metadata": {
    "execution": {
     "iopub.execute_input": "2024-10-11T09:54:31.202854Z",
     "iopub.status.busy": "2024-10-11T09:54:31.202303Z",
     "iopub.status.idle": "2024-10-11T10:06:32.151111Z",
     "shell.execute_reply": "2024-10-11T10:06:32.150510Z",
     "shell.execute_reply.started": "2024-10-11T09:54:31.202831Z"
    }
   },
   "outputs": [
    {
     "name": "stdout",
     "output_type": "stream",
     "text": [
      "New index_name received! Updating current index_name (human-nutrition-text-colbert) to human-nutrition-text-colbert\n",
      "---- WARNING! You are using PLAID with an experimental replacement for FAISS for greater compatibility ----\n",
      "This is a behaviour change from RAGatouille 0.8.0 onwards.\n",
      "This works fine for most users and smallish datasets, but can be considerably slower than FAISS and could cause worse results in some situations.\n",
      "If you're confident with FAISS working on your machine, pass use_faiss=True to revert to the FAISS-using behaviour.\n",
      "--------------------\n",
      "\n",
      "\n",
      "[Oct 11, 09:54:33] #> Note: Output directory .ragatouille/colbert/indexes/human-nutrition-text-colbert already exists\n",
      "\n",
      "\n",
      "[Oct 11, 09:54:33] #> Will delete 1 files already at .ragatouille/colbert/indexes/human-nutrition-text-colbert in 20 seconds...\n",
      "[Oct 11, 09:54:53] [0] \t\t #> Encoding 2320 passages..\n"
     ]
    },
    {
     "name": "stderr",
     "output_type": "stream",
     "text": [
      "100%|██████████| 50/50 [02:28<00:00,  2.96s/it]\n",
      "100%|██████████| 23/23 [01:06<00:00,  2.88s/it]"
     ]
    },
    {
     "name": "stdout",
     "output_type": "stream",
     "text": [
      "[Oct 11, 09:58:28] [0] \t\t avg_doclen_est = 135.68319702148438 \t len(local_sample) = 2,320\n",
      "[Oct 11, 09:58:28] [0] \t\t Creating 8,192 partitions.\n",
      "[Oct 11, 09:58:28] [0] \t\t *Estimated* 314,785 embeddings.\n",
      "[Oct 11, 09:58:28] [0] \t\t #> Saving the indexing plan to .ragatouille/colbert/indexes/human-nutrition-text-colbert/plan.json ..\n"
     ]
    },
    {
     "name": "stderr",
     "output_type": "stream",
     "text": [
      "\n"
     ]
    },
    {
     "name": "stdout",
     "output_type": "stream",
     "text": [
      "used 20 iterations (248.7413s) to cluster 299046 items into 8192 clusters\n",
      "[0.032, 0.036, 0.034, 0.032, 0.033, 0.034, 0.033, 0.032, 0.03, 0.033, 0.032, 0.033, 0.037, 0.034, 0.031, 0.033, 0.03, 0.034, 0.032, 0.032, 0.033, 0.034, 0.032, 0.034, 0.03, 0.032, 0.034, 0.033, 0.032, 0.036, 0.032, 0.035, 0.035, 0.033, 0.032, 0.03, 0.037, 0.034, 0.032, 0.04, 0.032, 0.032, 0.033, 0.034, 0.033, 0.034, 0.033, 0.036, 0.034, 0.032, 0.032, 0.033, 0.035, 0.032, 0.031, 0.032, 0.037, 0.035, 0.04, 0.033, 0.032, 0.034, 0.032, 0.035, 0.034, 0.034, 0.035, 0.037, 0.032, 0.032, 0.036, 0.032, 0.032, 0.034, 0.033, 0.037, 0.033, 0.034, 0.034, 0.035, 0.034, 0.033, 0.033, 0.035, 0.031, 0.033, 0.034, 0.035, 0.032, 0.038, 0.033, 0.037, 0.034, 0.033, 0.033, 0.035, 0.038, 0.033, 0.032, 0.034, 0.034, 0.038, 0.034, 0.033, 0.035, 0.032, 0.033, 0.031, 0.032, 0.031, 0.035, 0.034, 0.035, 0.031, 0.035, 0.032, 0.032, 0.034, 0.033, 0.033, 0.032, 0.034, 0.034, 0.033, 0.033, 0.033, 0.033, 0.031]\n"
     ]
    },
    {
     "name": "stderr",
     "output_type": "stream",
     "text": [
      "/opt/saturncloud/envs/saturn/lib/python3.11/site-packages/colbert/indexing/codecs/residual.py:141: FutureWarning: You are using `torch.load` with `weights_only=False` (the current default value), which uses the default pickle module implicitly. It is possible to construct malicious pickle data which will execute arbitrary code during unpickling (See https://github.com/pytorch/pytorch/blob/main/SECURITY.md#untrusted-models for more details). In a future release, the default value for `weights_only` will be flipped to `True`. This limits the functions that could be executed during unpickling. Arbitrary objects will no longer be allowed to be loaded via this mode unless they are explicitly allowlisted by the user via `torch.serialization.add_safe_globals`. We recommend you start setting `weights_only=True` for any use case where you don't have full control of the loaded file. Please open an issue on GitHub for any issues related to this experimental feature.\n",
      "  centroids = torch.load(centroids_path, map_location='cpu')\n",
      "/opt/saturncloud/envs/saturn/lib/python3.11/site-packages/colbert/indexing/codecs/residual.py:142: FutureWarning: You are using `torch.load` with `weights_only=False` (the current default value), which uses the default pickle module implicitly. It is possible to construct malicious pickle data which will execute arbitrary code during unpickling (See https://github.com/pytorch/pytorch/blob/main/SECURITY.md#untrusted-models for more details). In a future release, the default value for `weights_only` will be flipped to `True`. This limits the functions that could be executed during unpickling. Arbitrary objects will no longer be allowed to be loaded via this mode unless they are explicitly allowlisted by the user via `torch.serialization.add_safe_globals`. We recommend you start setting `weights_only=True` for any use case where you don't have full control of the loaded file. Please open an issue on GitHub for any issues related to this experimental feature.\n",
      "  avg_residual = torch.load(avgresidual_path, map_location='cpu')\n",
      "/opt/saturncloud/envs/saturn/lib/python3.11/site-packages/colbert/indexing/codecs/residual.py:143: FutureWarning: You are using `torch.load` with `weights_only=False` (the current default value), which uses the default pickle module implicitly. It is possible to construct malicious pickle data which will execute arbitrary code during unpickling (See https://github.com/pytorch/pytorch/blob/main/SECURITY.md#untrusted-models for more details). In a future release, the default value for `weights_only` will be flipped to `True`. This limits the functions that could be executed during unpickling. Arbitrary objects will no longer be allowed to be loaded via this mode unless they are explicitly allowlisted by the user via `torch.serialization.add_safe_globals`. We recommend you start setting `weights_only=True` for any use case where you don't have full control of the loaded file. Please open an issue on GitHub for any issues related to this experimental feature.\n",
      "  bucket_cutoffs, bucket_weights = torch.load(buckets_path, map_location='cpu')\n",
      "0it [00:00, ?it/s]"
     ]
    },
    {
     "name": "stdout",
     "output_type": "stream",
     "text": [
      "[Oct 11, 10:02:39] [0] \t\t #> Encoding 2320 passages..\n"
     ]
    },
    {
     "name": "stderr",
     "output_type": "stream",
     "text": [
      "\n",
      "  0%|          | 0/50 [00:00<?, ?it/s]\u001b[A\n",
      "  2%|▏         | 1/50 [00:03<02:35,  3.17s/it]\u001b[A\n",
      "  4%|▍         | 2/50 [00:06<02:23,  3.00s/it]\u001b[A\n",
      "  6%|▌         | 3/50 [00:08<02:18,  2.95s/it]\u001b[A\n",
      "  8%|▊         | 4/50 [00:11<02:16,  2.96s/it]\u001b[A\n",
      " 10%|█         | 5/50 [00:15<02:15,  3.01s/it]\u001b[A\n",
      " 12%|█▏        | 6/50 [00:17<02:10,  2.97s/it]\u001b[A\n",
      " 14%|█▍        | 7/50 [00:20<02:06,  2.95s/it]\u001b[A\n",
      " 16%|█▌        | 8/50 [00:24<02:06,  3.02s/it]\u001b[A\n",
      " 18%|█▊        | 9/50 [00:26<02:02,  2.99s/it]\u001b[A\n",
      " 20%|██        | 10/50 [00:29<01:58,  2.96s/it]\u001b[A\n",
      " 22%|██▏       | 11/50 [00:32<01:57,  3.02s/it]\u001b[A\n",
      " 24%|██▍       | 12/50 [00:35<01:53,  3.00s/it]\u001b[A\n",
      " 26%|██▌       | 13/50 [00:38<01:49,  2.97s/it]\u001b[A\n",
      " 28%|██▊       | 14/50 [00:41<01:46,  2.97s/it]\u001b[A\n",
      " 30%|███       | 15/50 [00:44<01:45,  3.03s/it]\u001b[A\n",
      " 32%|███▏      | 16/50 [00:47<01:41,  2.99s/it]\u001b[A\n",
      " 34%|███▍      | 17/50 [00:50<01:38,  2.97s/it]\u001b[A\n",
      " 36%|███▌      | 18/50 [00:53<01:37,  3.04s/it]\u001b[A\n",
      " 38%|███▊      | 19/50 [00:56<01:32,  3.00s/it]\u001b[A\n",
      " 40%|████      | 20/50 [00:59<01:29,  2.98s/it]\u001b[A\n",
      " 42%|████▏     | 21/50 [01:02<01:28,  3.04s/it]\u001b[A\n",
      " 44%|████▍     | 22/50 [01:05<01:24,  3.02s/it]\u001b[A\n",
      " 46%|████▌     | 23/50 [01:08<01:20,  2.99s/it]\u001b[A\n",
      " 48%|████▊     | 24/50 [01:11<01:17,  2.98s/it]\u001b[A\n",
      " 50%|█████     | 25/50 [01:15<01:15,  3.03s/it]\u001b[A\n",
      " 52%|█████▏    | 26/50 [01:17<01:12,  3.02s/it]\u001b[A\n",
      " 54%|█████▍    | 27/50 [01:20<01:09,  3.01s/it]\u001b[A\n",
      " 56%|█████▌    | 28/50 [01:24<01:07,  3.07s/it]\u001b[A\n",
      " 58%|█████▊    | 29/50 [01:27<01:03,  3.01s/it]\u001b[A\n",
      " 60%|██████    | 30/50 [01:29<00:59,  2.96s/it]\u001b[A\n",
      " 62%|██████▏   | 31/50 [01:33<00:57,  3.01s/it]\u001b[A\n",
      " 64%|██████▍   | 32/50 [01:35<00:53,  2.96s/it]\u001b[A\n",
      " 66%|██████▌   | 33/50 [01:38<00:49,  2.93s/it]\u001b[A\n",
      " 68%|██████▊   | 34/50 [01:41<00:46,  2.92s/it]\u001b[A\n",
      " 70%|███████   | 35/50 [01:44<00:44,  2.98s/it]\u001b[A\n",
      " 72%|███████▏  | 36/50 [01:47<00:41,  2.97s/it]\u001b[A\n",
      " 74%|███████▍  | 37/50 [01:50<00:38,  2.95s/it]\u001b[A\n",
      " 76%|███████▌  | 38/50 [01:53<00:36,  3.03s/it]\u001b[A\n",
      " 78%|███████▊  | 39/50 [01:56<00:33,  3.02s/it]\u001b[A\n",
      " 80%|████████  | 40/50 [01:59<00:30,  3.02s/it]\u001b[A\n",
      " 82%|████████▏ | 41/50 [02:03<00:27,  3.09s/it]\u001b[A\n",
      " 84%|████████▍ | 42/50 [02:05<00:24,  3.02s/it]\u001b[A\n",
      " 86%|████████▌ | 43/50 [02:08<00:20,  2.97s/it]\u001b[A\n",
      " 88%|████████▊ | 44/50 [02:11<00:17,  2.95s/it]\u001b[A\n",
      " 90%|█████████ | 45/50 [02:14<00:14,  2.98s/it]\u001b[A\n",
      " 92%|█████████▏| 46/50 [02:17<00:11,  2.94s/it]\u001b[A\n",
      " 94%|█████████▍| 47/50 [02:20<00:08,  2.91s/it]\u001b[A\n",
      " 96%|█████████▌| 48/50 [02:23<00:05,  2.99s/it]\u001b[A\n",
      " 98%|█████████▊| 49/50 [02:26<00:02,  2.96s/it]\u001b[A\n",
      "100%|██████████| 50/50 [02:29<00:00,  2.99s/it]\u001b[A\n",
      "\n",
      "  0%|          | 0/23 [00:00<?, ?it/s]\u001b[A\n",
      "  4%|▍         | 1/23 [00:03<01:09,  3.14s/it]\u001b[A\n",
      "  9%|▊         | 2/23 [00:06<01:02,  2.99s/it]\u001b[A\n",
      " 13%|█▎        | 3/23 [00:08<00:59,  2.97s/it]\u001b[A\n",
      " 17%|█▋        | 4/23 [00:11<00:55,  2.95s/it]\u001b[A\n",
      " 22%|██▏       | 5/23 [00:15<00:54,  3.01s/it]\u001b[A\n",
      " 26%|██▌       | 6/23 [00:17<00:50,  2.97s/it]\u001b[A\n",
      " 30%|███       | 7/23 [00:20<00:46,  2.94s/it]\u001b[A\n",
      " 35%|███▍      | 8/23 [00:23<00:45,  3.01s/it]\u001b[A\n",
      " 39%|███▉      | 9/23 [00:26<00:41,  2.97s/it]\u001b[A\n",
      " 43%|████▎     | 10/23 [00:29<00:38,  2.95s/it]\u001b[A\n",
      " 48%|████▊     | 11/23 [00:32<00:36,  3.01s/it]\u001b[A\n",
      " 52%|█████▏    | 12/23 [00:35<00:32,  2.98s/it]\u001b[A\n",
      " 57%|█████▋    | 13/23 [00:38<00:29,  2.96s/it]\u001b[A\n",
      " 61%|██████    | 14/23 [00:41<00:26,  2.95s/it]\u001b[A\n",
      " 65%|██████▌   | 15/23 [00:44<00:24,  3.01s/it]\u001b[A\n",
      " 70%|██████▉   | 16/23 [00:47<00:20,  2.98s/it]\u001b[A\n",
      " 74%|███████▍  | 17/23 [00:50<00:17,  2.95s/it]\u001b[A\n",
      " 78%|███████▊  | 18/23 [00:53<00:15,  3.03s/it]\u001b[A\n",
      " 83%|████████▎ | 19/23 [00:56<00:11,  2.99s/it]\u001b[A\n",
      " 87%|████████▋ | 20/23 [00:59<00:08,  2.97s/it]\u001b[A\n",
      " 91%|█████████▏| 21/23 [01:02<00:06,  3.01s/it]\u001b[A\n",
      " 96%|█████████▌| 22/23 [01:05<00:02,  3.00s/it]\u001b[A\n",
      "100%|██████████| 23/23 [01:07<00:00,  2.91s/it]\u001b[A\n",
      "1it [03:52, 232.67s/it]\n",
      "  0%|          | 0/1 [00:00<?, ?it/s]/opt/saturncloud/envs/saturn/lib/python3.11/site-packages/colbert/indexing/codecs/residual_embeddings.py:86: FutureWarning: You are using `torch.load` with `weights_only=False` (the current default value), which uses the default pickle module implicitly. It is possible to construct malicious pickle data which will execute arbitrary code during unpickling (See https://github.com/pytorch/pytorch/blob/main/SECURITY.md#untrusted-models for more details). In a future release, the default value for `weights_only` will be flipped to `True`. This limits the functions that could be executed during unpickling. Arbitrary objects will no longer be allowed to be loaded via this mode unless they are explicitly allowlisted by the user via `torch.serialization.add_safe_globals`. We recommend you start setting `weights_only=True` for any use case where you don't have full control of the loaded file. Please open an issue on GitHub for any issues related to this experimental feature.\n",
      "  return torch.load(codes_path, map_location='cpu')\n",
      "100%|██████████| 1/1 [00:00<00:00, 636.08it/s]"
     ]
    },
    {
     "name": "stdout",
     "output_type": "stream",
     "text": [
      "[Oct 11, 10:06:31] #> Optimizing IVF to store map from centroids to list of pids..\n",
      "[Oct 11, 10:06:31] #> Building the emb2pid mapping..\n",
      "[Oct 11, 10:06:31] len(emb2pid) = 314785\n"
     ]
    },
    {
     "name": "stderr",
     "output_type": "stream",
     "text": [
      "\n",
      "100%|██████████| 8192/8192 [00:00<00:00, 65048.28it/s]"
     ]
    },
    {
     "name": "stdout",
     "output_type": "stream",
     "text": [
      "[Oct 11, 10:06:32] #> Saved optimized IVF to .ragatouille/colbert/indexes/human-nutrition-text-colbert/ivf.pid.pt\n"
     ]
    },
    {
     "name": "stderr",
     "output_type": "stream",
     "text": [
      "\n"
     ]
    },
    {
     "name": "stdout",
     "output_type": "stream",
     "text": [
      "Done indexing!\n"
     ]
    },
    {
     "data": {
      "text/plain": [
       "'.ragatouille/colbert/indexes/human-nutrition-text-colbert'"
      ]
     },
     "execution_count": 18,
     "metadata": {},
     "output_type": "execute_result"
    }
   ],
   "source": [
    "RAG.index(\n",
    "    collection=[doc],\n",
    "    index_name=\"human-nutrition-text-colbert\",\n",
    "    max_document_length=200,\n",
    "    split_documents=True,\n",
    "    #use_faiss=True\n",
    ")"
   ]
  },
  {
   "cell_type": "code",
   "execution_count": 60,
   "metadata": {
    "execution": {
     "iopub.execute_input": "2024-10-11T11:11:26.318387Z",
     "iopub.status.busy": "2024-10-11T11:11:26.318065Z",
     "iopub.status.idle": "2024-10-11T11:11:26.321392Z",
     "shell.execute_reply": "2024-10-11T11:11:26.320742Z",
     "shell.execute_reply.started": "2024-10-11T11:11:26.318364Z"
    }
   },
   "outputs": [],
   "source": [
    "retriever = RAG.as_langchain_retriever(k=1)"
   ]
  },
  {
   "cell_type": "markdown",
   "metadata": {
    "jp-MarkdownHeadingCollapsed": true
   },
   "source": [
    "#### **A Simple Agentic Chatbot**."
   ]
  },
  {
   "cell_type": "markdown",
   "metadata": {
    "jp-MarkdownHeadingCollapsed": true
   },
   "source": [
    "#### **tools**\n",
    "\n",
    "* First of, a tool to query the knowledgebase:"
   ]
  },
  {
   "cell_type": "code",
   "execution_count": 61,
   "metadata": {
    "execution": {
     "iopub.execute_input": "2024-10-11T11:11:27.515097Z",
     "iopub.status.busy": "2024-10-11T11:11:27.514777Z",
     "iopub.status.idle": "2024-10-11T11:11:27.518562Z",
     "shell.execute_reply": "2024-10-11T11:11:27.517928Z",
     "shell.execute_reply.started": "2024-10-11T11:11:27.515075Z"
    }
   },
   "outputs": [],
   "source": [
    "from langchain.tools.retriever import create_retriever_tool\n",
    "\n",
    "retrieval_tool = create_retriever_tool(\n",
    "    retriever,\n",
    "    \"search_database\",\n",
    "    \"\"\"Searches and retrieves relevant excerpts from the 'Human Nutrition - 2020 Edition' PDF, a comprehensive guide covering topics\n",
    "      such as macronutrients (carbohydrates, proteins, fats), micronutrients (vitamins, minerals), dietary guidelines, nutritional requirements \n",
    "      for different life stages, metabolism, digestion, energy balance, dietary patterns, public health nutrition,\n",
    "      chronic diseases related to diet (e.g., obesity, diabetes), food safety, and the impact of nutrition on overall health and well-being\"\"\",\n",
    ")"
   ]
  },
  {
   "cell_type": "markdown",
   "metadata": {},
   "source": [
    "* Next, a tool for the internet:"
   ]
  },
  {
   "cell_type": "code",
   "execution_count": 62,
   "metadata": {
    "execution": {
     "iopub.execute_input": "2024-10-11T11:11:29.130818Z",
     "iopub.status.busy": "2024-10-11T11:11:29.130486Z",
     "iopub.status.idle": "2024-10-11T11:11:49.352053Z",
     "shell.execute_reply": "2024-10-11T11:11:49.351498Z",
     "shell.execute_reply.started": "2024-10-11T11:11:29.130796Z"
    }
   },
   "outputs": [
    {
     "name": "stdin",
     "output_type": "stream",
     "text": [
      "Enter your query here:  who is messi?\n"
     ]
    }
   ],
   "source": [
    "from langchain_community.tools.tavily_search import TavilySearchResults\n",
    "\n",
    "\n",
    "search = TavilySearchResults()\n",
    "    \n",
    "# Prepare the query and perform the search\n",
    "search_results = search.invoke(input(\"Enter your query here: \"))\n",
    "\n",
    "# Who is the current UFC bantam weight champion of the world?"
   ]
  },
  {
   "cell_type": "code",
   "execution_count": 37,
   "metadata": {
    "execution": {
     "iopub.execute_input": "2024-10-11T10:14:49.062272Z",
     "iopub.status.busy": "2024-10-11T10:14:49.061680Z",
     "iopub.status.idle": "2024-10-11T10:14:49.066003Z",
     "shell.execute_reply": "2024-10-11T10:14:49.065452Z",
     "shell.execute_reply.started": "2024-10-11T10:14:49.062248Z"
    }
   },
   "outputs": [
    {
     "data": {
      "text/plain": [
       "[{'url': 'https://www.sportskeeda.com/mma/ufc-bantamweight',\n",
       "  'content': \"Current Bantamweight Champion- 2024. The current UFC Bantamweight Champion is Merab Dvalishvili (18-4-0). At UFC 306, Merab Dvalishvili defeated Sean O'Malley to become the new bantamweight ...\"},\n",
       " {'url': 'https://nyfights.com/worldwide/ufc-bantamweight-division-results-ranking-history-fighters/',\n",
       "  'content': 'Current UFC Bantamweight Champion \"Suga\" Sean O\\'Malley can be described as many things. ... In 2014, at UFC 173, T.J. Dillashaw shocked the mixed martial arts world by dethroning 33 fight unbeaten interim Bantamweight Champ Renan Barão to become the new Bantamweight Champion. Dillashaw\\'s performance showcased his crisp striking and ...'},\n",
       " {'url': 'https://www.espn.com/mma/story/_/id/38490132/ufc-weight-class-power-rankings-sean-omalley-elevates-men-bantamweight-top-spot',\n",
       "  'content': \"Sean O'Malley beat Aljamain Sterling to claim the UFC men's bantamweight title at UFC 292 in August. ... the current champion, and Oliveira, the former titleholder, at UFC 294 in Abu Dhabi ...\"},\n",
       " {'url': 'https://www.ufc.com/rankings',\n",
       "  'content': \"Current UFC Rankings for every weight class and pound-for-pound greatest fighter. ... Women's Bantamweight Raquel Pennington Champion. 1 : Julianna Peña: 2 : Ketlen Vieira:\"},\n",
       " {'url': 'https://bleacherreport.com/articles/10086627-sean-omalley-stuns-aljamain-sterling-by-tko-wins-bantamweight-title-at-ufc-292',\n",
       "  'content': \"Sean O'Malley Stuns Aljamain Sterling by TKO, Wins Bantamweight Title at UFC 292 | News, Scores, Highlights, Stats, and Rumors | Bleacher Report Sean O'Malley Stuns Aljamain Sterling by TKO, Wins Bantamweight Title at UFC 292 Sean O'Malley took the UFC bantamweight championship from Aljamain Sterling with a second-round TKO win over The Funkmaster in the main event of UFC 292. After a slow first round in which neither fighter really took the lead in the fight, O'Malley dropped the now-former champion with a picture-perfect counter right hand to become the new champ.\"}]"
      ]
     },
     "execution_count": 37,
     "metadata": {},
     "output_type": "execute_result"
    }
   ],
   "source": [
    "search_results"
   ]
  },
  {
   "cell_type": "code",
   "execution_count": 63,
   "metadata": {
    "execution": {
     "iopub.execute_input": "2024-10-11T11:11:51.699491Z",
     "iopub.status.busy": "2024-10-11T11:11:51.698912Z",
     "iopub.status.idle": "2024-10-11T11:11:51.707241Z",
     "shell.execute_reply": "2024-10-11T11:11:51.706499Z",
     "shell.execute_reply.started": "2024-10-11T11:11:51.699469Z"
    }
   },
   "outputs": [],
   "source": [
    "from langchain_core.tools import tool\n",
    "\n",
    "@tool\n",
    "def web_search_tool(messages: str) -> str:\n",
    "    \"\"\"\n",
    "    Perform a web search using TavilySearchResults to retrieve relevant information.\n",
    "\n",
    "    Args:\n",
    "        messages (str): The search query for finding up-to-date information.\n",
    "\n",
    "    Returns:\n",
    "        str: The most relevant information found from the web search.\n",
    "    \"\"\"\n",
    "    \n",
    "\n",
    "    # Initialize TavilySearchResults to handle the web search\n",
    "    search = TavilySearchResults()\n",
    "    \n",
    "    # Prepare the query and perform the search\n",
    "    search_results = search.invoke(messages)\n",
    "\n",
    "    # Convert the search results into a readable string (assume search_results is a list of dicts)\n",
    "    results = \"\\n\".join([f\"URL: {res['url']}\\nContent: {res['content']}\\n\" for res in search_results])\n",
    "\n",
    "    return {\"messages\": [results]}\n"
   ]
  },
  {
   "cell_type": "markdown",
   "metadata": {},
   "source": [
    "* Finally, Responsible AI:\n",
    "\n",
    "\n",
    "  A guard_tool implemented to ensure responsible AI interactions by providing standard responses to sensitive topics."
   ]
  },
  {
   "cell_type": "code",
   "execution_count": 64,
   "metadata": {
    "execution": {
     "iopub.execute_input": "2024-10-11T11:11:54.931153Z",
     "iopub.status.busy": "2024-10-11T11:11:54.930820Z",
     "iopub.status.idle": "2024-10-11T11:11:54.939333Z",
     "shell.execute_reply": "2024-10-11T11:11:54.938802Z",
     "shell.execute_reply.started": "2024-10-11T11:11:54.931132Z"
    }
   },
   "outputs": [],
   "source": [
    "from langchain_core.tools import tool\n",
    "from langchain.prompts import PromptTemplate\n",
    "from langchain_groq import ChatGroq\n",
    "from langchain_core.output_parsers import StrOutputParser\n",
    "\n",
    "# Define the tool function\n",
    "@tool\n",
    "def guard_tool(question: str) -> str:\n",
    "    \"\"\"\n",
    "    A tool that provides a standard response when the user queries sensitive topics, \n",
    "    such as flirting, politics, religion, or other restricted subjects.\n",
    "\n",
    "    Args:\n",
    "        question (str): The user's input, potentially involving sensitive topics.\n",
    "\n",
    "    Returns:\n",
    "        str: A standardized reply stating the assistant cannot engage with sensitive topics.\n",
    "    \"\"\"\n",
    "    \n",
    "    # Prompt Template for guarding sensitive topics\n",
    "    guard_prompt = PromptTemplate(\n",
    "        template=\"\"\"You are an assistant for question-answering tasks.\n",
    "                    You are not allowed to discuss sensitive topics such as flirting, politics, religion, or other controversial subjects.\n",
    "                    Answer the following question only with this reply:\n",
    "                    \"Sorry, this is sensitive. I have been programmed by 🅱🅻🅰🆀 not to engage in discussions on this topic.\"\n",
    "                    Question: {question}.\n",
    "                    Your reply: \"Sorry, this is sensitive. I have been programmed by 🅱🅻🅰🆀 not to engage in discussions on this topic.\"\n",
    "                    Please no preamble or extra sentences, just that same reply.\"\"\",\n",
    "        input_variables=[\"question\"]\n",
    "    )\n",
    "\n",
    "    # Initialize the ChatGroq LLM\n",
    "    guard = ChatGroq(temperature=0.1, model_name=\"llama-3.1-70b-versatile\")\n",
    "    \n",
    "    # Create a guardrail chain\n",
    "    guardrail = guard_prompt | guard | StrOutputParser()\n",
    "\n",
    "    # Generate the response using the prompt and model\n",
    "    response = guardrail.invoke({\"question\": question})\n",
    "    \n",
    "    return {\"response\": response}"
   ]
  },
  {
   "cell_type": "code",
   "execution_count": 65,
   "metadata": {
    "execution": {
     "iopub.execute_input": "2024-10-11T11:11:59.307088Z",
     "iopub.status.busy": "2024-10-11T11:11:59.306748Z",
     "iopub.status.idle": "2024-10-11T11:11:59.309703Z",
     "shell.execute_reply": "2024-10-11T11:11:59.309144Z",
     "shell.execute_reply.started": "2024-10-11T11:11:59.307066Z"
    }
   },
   "outputs": [],
   "source": [
    "# Uncomment and run if you do not have langchain-groq python module already installed\n",
    "\n",
    "#! pip install -qU langchain-groq"
   ]
  },
  {
   "cell_type": "markdown",
   "metadata": {
    "jp-MarkdownHeadingCollapsed": true
   },
   "source": [
    "#### **assistant**"
   ]
  },
  {
   "cell_type": "code",
   "execution_count": 66,
   "metadata": {
    "execution": {
     "iopub.execute_input": "2024-10-11T11:11:59.618750Z",
     "iopub.status.busy": "2024-10-11T11:11:59.618425Z",
     "iopub.status.idle": "2024-10-11T11:11:59.645510Z",
     "shell.execute_reply": "2024-10-11T11:11:59.645003Z",
     "shell.execute_reply.started": "2024-10-11T11:11:59.618729Z"
    }
   },
   "outputs": [],
   "source": [
    "from langchain_groq import ChatGroq\n",
    "\n",
    "llm = ChatGroq(temperature=0.1, model_name=\"llama3-groq-8b-8192-tool-use-preview\")\n",
    "\n",
    "tools = [retrieval_tool, web_search_tool, guard_tool]\n",
    "llm_with_tools = llm.bind_tools(tools)"
   ]
  },
  {
   "cell_type": "code",
   "execution_count": 68,
   "metadata": {
    "execution": {
     "iopub.execute_input": "2024-10-11T11:12:11.139067Z",
     "iopub.status.busy": "2024-10-11T11:12:11.138736Z",
     "iopub.status.idle": "2024-10-11T11:12:11.142871Z",
     "shell.execute_reply": "2024-10-11T11:12:11.142228Z",
     "shell.execute_reply.started": "2024-10-11T11:12:11.139046Z"
    }
   },
   "outputs": [],
   "source": [
    "from langgraph.graph import MessagesState\n",
    "from langchain_core.messages import HumanMessage, SystemMessage\n",
    "\n",
    "# System message\n",
    "sys_msg = SystemMessage(content = \"\"\"\n",
    "You are a helpful assistant with access to 3 tools: guard_tool, web_search_tool and search_database.\n",
    "\"\"\")\n",
    "\n",
    "# Node\n",
    "def assistant(state: MessagesState):\n",
    "    return {\"messages\": [llm_with_tools.invoke([sys_msg] + state[\"messages\"])]}"
   ]
  },
  {
   "cell_type": "code",
   "execution_count": 69,
   "metadata": {
    "execution": {
     "iopub.execute_input": "2024-10-11T11:12:15.515971Z",
     "iopub.status.busy": "2024-10-11T11:12:15.515640Z",
     "iopub.status.idle": "2024-10-11T11:12:15.536833Z",
     "shell.execute_reply": "2024-10-11T11:12:15.536312Z",
     "shell.execute_reply.started": "2024-10-11T11:12:15.515950Z"
    }
   },
   "outputs": [],
   "source": [
    "model = ChatGroq(temperature=0.1, model_name=\"llama-3.1-70b-versatile\")"
   ]
  },
  {
   "cell_type": "code",
   "execution_count": 70,
   "metadata": {
    "execution": {
     "iopub.execute_input": "2024-10-11T11:12:42.435692Z",
     "iopub.status.busy": "2024-10-11T11:12:42.435368Z",
     "iopub.status.idle": "2024-10-11T11:12:42.440301Z",
     "shell.execute_reply": "2024-10-11T11:12:42.439760Z",
     "shell.execute_reply.started": "2024-10-11T11:12:42.435672Z"
    }
   },
   "outputs": [],
   "source": [
    "from langgraph.graph import MessagesState\n",
    "from langchain_core.messages import HumanMessage, SystemMessage, RemoveMessage\n",
    "\n",
    "\n",
    "class State(MessagesState):\n",
    "    summary: str\n",
    "\n",
    "# Node\n",
    "def assistant(state: State):\n",
    "    # Get summary if it exists\n",
    "    summary = state.get(\"summary\", \"\")\n",
    " \n",
    "    # If there is summary, then we add it\n",
    "    if summary:\n",
    "        \n",
    "        # Add summary to system message\n",
    "        summary_message = f\"Summary of conversation earlier: {summary}\"\n",
    "\n",
    "        # Append summary to any newer messages\n",
    "        messages = [sys_msg] + [SystemMessage(content=summary_message)] + state[\"messages\"]\n",
    "    \n",
    "    else:\n",
    "        messages = [sys_msg] + state[\"messages\"]\n",
    "    return {\"messages\": [llm_with_tools.invoke(messages)]}"
   ]
  },
  {
   "cell_type": "code",
   "execution_count": 71,
   "metadata": {
    "execution": {
     "iopub.execute_input": "2024-10-11T11:12:45.375752Z",
     "iopub.status.busy": "2024-10-11T11:12:45.375427Z",
     "iopub.status.idle": "2024-10-11T11:12:45.379954Z",
     "shell.execute_reply": "2024-10-11T11:12:45.379447Z",
     "shell.execute_reply.started": "2024-10-11T11:12:45.375730Z"
    }
   },
   "outputs": [],
   "source": [
    "def summarize_conversation(state: State):\n",
    "    \n",
    "    # First, we get any existing summary\n",
    "    summary = state.get(\"summary\", \"\")\n",
    "\n",
    "    # Create our summarization prompt \n",
    "    if summary:\n",
    "        \n",
    "        # A summary already exists\n",
    "        summary_message = (\n",
    "            f\"This is summary of the conversation to date: {summary}\\n\\n\"\n",
    "            \"Extend the summary by taking into account the new messages above:\"\n",
    "        )\n",
    "        \n",
    "    else:\n",
    "        summary_message = \"Create a summary of the conversation above:\"\n",
    "\n",
    "    # Add prompt to our history\n",
    "    messages = state[\"messages\"] + [HumanMessage(content=summary_message)]\n",
    "    response = llm.invoke(messages)\n",
    "    \n",
    "    # Delete all but the 2 most recent messages\n",
    "    delete_messages = [RemoveMessage(id=m.id) for m in state[\"messages\"][:-2]]\n",
    "    return {\"summary\": response.content, \"messages\": delete_messages}"
   ]
  },
  {
   "cell_type": "code",
   "execution_count": 72,
   "metadata": {
    "execution": {
     "iopub.execute_input": "2024-10-11T11:12:48.690728Z",
     "iopub.status.busy": "2024-10-11T11:12:48.690399Z",
     "iopub.status.idle": "2024-10-11T11:12:48.694188Z",
     "shell.execute_reply": "2024-10-11T11:12:48.693677Z",
     "shell.execute_reply.started": "2024-10-11T11:12:48.690706Z"
    }
   },
   "outputs": [],
   "source": [
    "from langgraph.graph import END\n",
    "# Determine whether to end or summarize the conversation\n",
    "def should_continue(state: State):\n",
    "    \n",
    "    \"\"\"Return the next node to execute.\"\"\"\n",
    "    \n",
    "    messages = state[\"messages\"]\n",
    "    \n",
    "    # If there are more than six messages, then we summarize the conversation\n",
    "    if len(messages) > 6:\n",
    "        return \"summarize_conversation\"\n",
    "    \n",
    "    # Otherwise we can just end\n",
    "    return END"
   ]
  },
  {
   "cell_type": "markdown",
   "metadata": {
    "jp-MarkdownHeadingCollapsed": true
   },
   "source": [
    "#### **graph**"
   ]
  },
  {
   "cell_type": "code",
   "execution_count": 73,
   "metadata": {
    "execution": {
     "iopub.execute_input": "2024-10-11T11:12:49.655784Z",
     "iopub.status.busy": "2024-10-11T11:12:49.655447Z",
     "iopub.status.idle": "2024-10-11T11:12:49.662431Z",
     "shell.execute_reply": "2024-10-11T11:12:49.661888Z",
     "shell.execute_reply.started": "2024-10-11T11:12:49.655763Z"
    }
   },
   "outputs": [],
   "source": [
    "from langgraph.graph import START, StateGraph\n",
    "from langgraph.prebuilt import tools_condition, ToolNode\n",
    "from IPython.display import Image, display\n",
    "from langgraph.checkpoint.memory import MemorySaver\n",
    "\n",
    "\n",
    "# no-op node that should be interrupted on\n",
    "def human_feedback(state: MessagesState):\n",
    "    pass\n",
    "\n",
    "# Graph\n",
    "builder = StateGraph(State)\n",
    "\n",
    "# Define nodes: these do the work\n",
    "builder.add_node(\"assistant\", assistant)\n",
    "builder.add_node(\"tools\", ToolNode(tools))\n",
    "builder.add_node(\"summarize_conversation\",summarize_conversation)\n",
    "builder.add_node(\"human_feedback\", human_feedback)\n",
    "\n",
    "# Define edges: these determine how the control flow moves\n",
    "builder.add_edge(START, \"human_feedback\")\n",
    "builder.add_edge(\"human_feedback\", \"assistant\")\n",
    "\n",
    "builder.add_conditional_edges(\n",
    "    \"assistant\",\n",
    "    # If the latest message (result) from assistant is a tool call -> tools_condition routes to tools\n",
    "    # If the latest message (result) from assistant is a not a tool call -> tools_condition routes to END\n",
    "    tools_condition,\n",
    ")\n",
    "builder.add_edge(\"tools\", \"assistant\")\n",
    "\n",
    "builder.add_conditional_edges(\n",
    "    \"assistant\",\n",
    "    should_continue,\n",
    ")\n",
    "builder.add_edge(\"summarize_conversation\", END)\n",
    "\n",
    "\n",
    "memory = MemorySaver() \n",
    "react_graph = builder.compile(interrupt_before=[\"human_feedback\"], checkpointer=memory)"
   ]
  },
  {
   "cell_type": "code",
   "execution_count": 74,
   "metadata": {
    "execution": {
     "iopub.execute_input": "2024-10-11T11:12:53.236079Z",
     "iopub.status.busy": "2024-10-11T11:12:53.235757Z",
     "iopub.status.idle": "2024-10-11T11:12:53.318671Z",
     "shell.execute_reply": "2024-10-11T11:12:53.318154Z",
     "shell.execute_reply.started": "2024-10-11T11:12:53.236058Z"
    }
   },
   "outputs": [
    {
     "data": {
      "image/jpeg": "[encoded data removed]",
      "text/plain": [
       "<IPython.core.display.Image object>"
      ]
     },
     "metadata": {},
     "output_type": "display_data"
    }
   ],
   "source": [
    "# Show\n",
    "display(Image(react_graph.get_graph(xray=True).draw_mermaid_png()))"
   ]
  },
  {
   "cell_type": "markdown",
   "metadata": {},
   "source": [
    "Try it out:"
   ]
  },
  {
   "cell_type": "code",
   "execution_count": 76,
   "metadata": {
    "execution": {
     "iopub.execute_input": "2024-10-11T11:14:43.547405Z",
     "iopub.status.busy": "2024-10-11T11:14:43.546828Z",
     "iopub.status.idle": "2024-10-11T11:15:00.426324Z",
     "shell.execute_reply": "2024-10-11T11:15:00.425665Z",
     "shell.execute_reply.started": "2024-10-11T11:14:43.547384Z"
    }
   },
   "outputs": [
    {
     "name": "stdin",
     "output_type": "stream",
     "text": [
      "Enter your query here:  what day of the week is today?\n"
     ]
    },
    {
     "name": "stdout",
     "output_type": "stream",
     "text": [
      "================================\u001b[1m Human Message \u001b[0m=================================\n",
      "\n",
      "what day of the week is today?\n"
     ]
    },
    {
     "name": "stdin",
     "output_type": "stream",
     "text": [
      "Which tool should I use - internet, or database:  \n"
     ]
    },
    {
     "name": "stdout",
     "output_type": "stream",
     "text": [
      "================================\u001b[1m Human Message \u001b[0m=================================\n",
      "\n",
      "\n",
      "==================================\u001b[1m Ai Message \u001b[0m==================================\n",
      "Tool Calls:\n",
      "  web_search_tool (call_a1cr)\n",
      " Call ID: call_a1cr\n",
      "  Args:\n",
      "    messages: what day of the week is today?\n",
      "=================================\u001b[1m Tool Message \u001b[0m=================================\n",
      "Name: web_search_tool\n",
      "\n",
      "{\"messages\": [\"URL: https://www.calculator.net/day-of-the-week-calculator.html\\nContent: Find the day of the week of any date using this calculator. It also provides facts, trivia, and calendar of the month for each day of the week.\\n\\nURL: https://dqydj.com/day-of-the-week-calculator/\\nContent: Find out the day of the week and the day number of the year for any date with this tool. It accounts for leap years and has practical applications for event planning, project deadlines, historical research, and more.\\n\\nURL: https://onlinetools.com/time/find-day-of-week\\nContent: Our Network\\nComing Soon\\nComing Later\\nday of week calculator\\nWith this browser-based application, you can find the day of the week for the given calendar date. Quickly find how old a human would be if he/she was a cat.\\nQuickly find how old a dog would be if it was a human.\\n If you like our tools, you can upgrade to a premium subscription to get rid of this dialog as well as enable the following features:\\nWhat is a day of week calculator?\\n Cyclically shift YYYY, MM, DD date parts to the left or right.\\nPerform freeform clock time arithmetics.\\nPerform freeform calendar date arithmetics.\\n We enter the date of his birth \\\"2001-06-15\\\" in the input field and get the dotw \\\"Friday\\\" as the output.\\n\\n\\nURL: https://www.gigacalculator.com/calculators/weekday-calculator.php\\nContent: Standard Deviation\\nMean\\nPercent\\nLog\\nExponent\\nFraction\\nTrigonometry\\nArea\\nVolume\\nRandom Number\\nPassword Generator\\nAge\\nDays\\nTime card\\nBMI\\nBody Fat\\nCalories\\nTDEE\\nWeight loss\\nMacro\\nConcrete\\nF.A.Q.\\nCalculator Widgets\\nConverter Widgets\\nRandomizer Widgets\\nArticles\\nAll tools\\nPrivacy Policy\\nTerms of Service\\nAbout Us\\nContact Us\\nOur online calculators, converters, randomizers, and content are provided \\\"as is\\\", free of charge, and without any warranty or guarantee. Step-by-step guide\\nSince days of the week follow a strict order and are not affected by the presence of leap years, the calculation basically involves the following steps:\\nExample\\nAssume you know that Jan 1, 2024 is a Monday and you want to know what day is Jan 18, 2024. Calendar result\\nHow to use the weekday calculator\\nSimply specify the date which you are interested in and press Calculate to see the day of the week that date corresponds to. Day of the week calculations\\nDay of the week calculations can be performed either according to the international standard for Representation of dates and times ISO-8601 or to the Gregorian calendar without any difference. Percent Off\\nTip Amount\\nFuel\\nGas (MPG)\\nSpeed\\nInterest\\nDiscount\\nVAT\\nROI\\n\\n\\nURL: https://calculatorforus.com/date-and-time-tools/weekday-calculator\\nContent: Enter a date and this online tool will tell you which day of the week it falls on. You can also use it to plan holidays, birthdays, or other events based on the weekday.\\n\"]}\n",
      "==================================\u001b[1m Ai Message \u001b[0m==================================\n",
      "\n",
      "Today is Friday. Is there anything else you need help with?\n"
     ]
    }
   ],
   "source": [
    "# Specify a thread\n",
    "thread = {\"configurable\": {\"thread_id\": \"0\"}}\n",
    "\n",
    "user_input = {\"messages\": input(\"Enter your query here: \")}\n",
    "\n",
    "# Run the graph until the first interruption\n",
    "for event in react_graph.stream(user_input, thread, stream_mode=\"values\"):\n",
    "    event[\"messages\"][-1].pretty_print()\n",
    "    \n",
    "# Get user input\n",
    "feedback = input(\"Which tool should I use - internet, or database: \")\n",
    "\n",
    "# We now update the state as if we are the human_feedback node\n",
    "react_graph.update_state(thread, {\"messages\": feedback}, as_node=\"human_feedback\")\n",
    "\n",
    "# Continue the graph execution\n",
    "for event in react_graph.stream(None, thread, stream_mode=\"values\"):\n",
    "    event[\"messages\"][-1].pretty_print()"
   ]
  }
 ],
 "metadata": {
  "kernelspec": {
   "display_name": "saturn (Python 3)",
   "language": "python",
   "name": "python3"
  },
  "language_info": {
   "codemirror_mode": {
    "name": "ipython",
    "version": 3
   },
   "file_extension": ".py",
   "mimetype": "text/x-python",
   "name": "python",
   "nbconvert_exporter": "python",
   "pygments_lexer": "ipython3",
   "version": "3.11.9"
  }
 },
 "nbformat": 4,
 "nbformat_minor": 4
}
